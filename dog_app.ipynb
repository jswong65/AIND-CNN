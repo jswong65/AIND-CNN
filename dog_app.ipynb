{
 "cells": [
  {
   "cell_type": "markdown",
   "metadata": {},
   "source": [
    "# Artificial Intelligence Nanodegree\n",
    "\n",
    "## Convolutional Neural Networks\n",
    "\n",
    "## Project: Write an Algorithm for a Dog Identification App \n",
    "\n",
    "---\n",
    "\n",
    "In this notebook, some template code has already been provided for you, and you will need to implement additional functionality to successfully complete this project. You will not need to modify the included code beyond what is requested. Sections that begin with **'(IMPLEMENTATION)'** in the header indicate that the following block of code will require additional functionality which you must provide. Instructions will be provided for each section, and the specifics of the implementation are marked in the code block with a 'TODO' statement. Please be sure to read the instructions carefully! \n",
    "\n",
    "> **Note**: Once you have completed all of the code implementations, you need to finalize your work by exporting the iPython Notebook as an HTML document. Before exporting the notebook to html, all of the code cells need to have been run so that reviewers can see the final implementation and output. You can then export the notebook by using the menu above and navigating to  \\n\",\n",
    "    \"**File -> Download as -> HTML (.html)**. Include the finished document along with this notebook as your submission.\n",
    "\n",
    "In addition to implementing code, there will be questions that you must answer which relate to the project and your implementation. Each section where you will answer a question is preceded by a **'Question X'** header. Carefully read each question and provide thorough answers in the following text boxes that begin with **'Answer:'**. Your project submission will be evaluated based on your answers to each of the questions and the implementation you provide.\n",
    "\n",
    ">**Note:** Code and Markdown cells can be executed using the **Shift + Enter** keyboard shortcut.  Markdown cells can be edited by double-clicking the cell to enter edit mode.\n",
    "\n",
    "The rubric contains _optional_ \"Stand Out Suggestions\" for enhancing the project beyond the minimum requirements. If you decide to pursue the \"Stand Out Suggestions\", you should include the code in this IPython notebook.\n",
    "\n",
    "\n",
    "\n",
    "---\n",
    "### Why We're Here \n",
    "\n",
    "In this notebook, you will make the first steps towards developing an algorithm that could be used as part of a mobile or web app.  At the end of this project, your code will accept any user-supplied image as input.  If a dog is detected in the image, it will provide an estimate of the dog's breed.  If a human is detected, it will provide an estimate of the dog breed that is most resembling.  The image below displays potential sample output of your finished project (... but we expect that each student's algorithm will behave differently!). \n",
    "\n",
    "![Sample Dog Output](images/sample_dog_output.png)\n",
    "\n",
    "In this real-world setting, you will need to piece together a series of models to perform different tasks; for instance, the algorithm that detects humans in an image will be different from the CNN that infers dog breed.  There are many points of possible failure, and no perfect algorithm exists.  Your imperfect solution will nonetheless create a fun user experience!\n",
    "\n",
    "### The Road Ahead\n",
    "\n",
    "We break the notebook into separate steps.  Feel free to use the links below to navigate the notebook.\n",
    "\n",
    "* [Step 0](#step0): Import Datasets\n",
    "* [Step 1](#step1): Detect Humans\n",
    "* [Step 2](#step2): Detect Dogs\n",
    "* [Step 3](#step3): Create a CNN to Classify Dog Breeds (from Scratch)\n",
    "* [Step 4](#step4): Use a CNN to Classify Dog Breeds (using Transfer Learning)\n",
    "* [Step 5](#step5): Create a CNN to Classify Dog Breeds (using Transfer Learning)\n",
    "* [Step 6](#step6): Write your Algorithm\n",
    "* [Step 7](#step7): Test Your Algorithm\n",
    "\n",
    "---\n",
    "<a id='step0'></a>\n",
    "## Step 0: Import Datasets\n",
    "\n",
    "### Import Dog Dataset\n",
    "\n",
    "In the code cell below, we import a dataset of dog images.  We populate a few variables through the use of the `load_files` function from the scikit-learn library:\n",
    "- `train_files`, `valid_files`, `test_files` - numpy arrays containing file paths to images\n",
    "- `train_targets`, `valid_targets`, `test_targets` - numpy arrays containing onehot-encoded classification labels \n",
    "- `dog_names` - list of string-valued dog breed names for translating labels"
   ]
  },
  {
   "cell_type": "code",
   "execution_count": 1,
   "metadata": {},
   "outputs": [
    {
     "name": "stderr",
     "output_type": "stream",
     "text": [
      "Using TensorFlow backend.\n"
     ]
    },
    {
     "name": "stdout",
     "output_type": "stream",
     "text": [
      "There are 133 total dog categories.\n",
      "There are 8351 total dog images.\n",
      "\n",
      "There are 6680 training dog images.\n",
      "There are 835 validation dog images.\n",
      "There are 836 test dog images.\n"
     ]
    }
   ],
   "source": [
    "from sklearn.datasets import load_files       \n",
    "from keras.utils import np_utils\n",
    "import numpy as np\n",
    "from glob import glob\n",
    "\n",
    "# define function to load train, test, and validation datasets\n",
    "def load_dataset(path):\n",
    "    data = load_files(path)\n",
    "    dog_files = np.array(data['filenames'])\n",
    "    dog_targets = np_utils.to_categorical(np.array(data['target']), 133)\n",
    "    return dog_files, dog_targets\n",
    "\n",
    "# load train, test, and validation datasets\n",
    "train_files, train_targets = load_dataset('dogImages/train')\n",
    "valid_files, valid_targets = load_dataset('dogImages/valid')\n",
    "test_files, test_targets = load_dataset('dogImages/test')\n",
    "\n",
    "# load list of dog names\n",
    "dog_names = [item[20:-1] for item in sorted(glob(\"dogImages/train/*/\"))]\n",
    "\n",
    "# print statistics about the dataset\n",
    "print('There are %d total dog categories.' % len(dog_names))\n",
    "print('There are %s total dog images.\\n' % len(np.hstack([train_files, valid_files, test_files])))\n",
    "print('There are %d training dog images.' % len(train_files))\n",
    "print('There are %d validation dog images.' % len(valid_files))\n",
    "print('There are %d test dog images.'% len(test_files))"
   ]
  },
  {
   "cell_type": "code",
   "execution_count": 2,
   "metadata": {},
   "outputs": [
    {
     "name": "stdout",
     "output_type": "stream",
     "text": [
      "6680\n"
     ]
    }
   ],
   "source": [
    "print(len(train_files))"
   ]
  },
  {
   "cell_type": "markdown",
   "metadata": {},
   "source": [
    "### Import Human Dataset\n",
    "\n",
    "In the code cell below, we import a dataset of human images, where the file paths are stored in the numpy array `human_files`."
   ]
  },
  {
   "cell_type": "code",
   "execution_count": 3,
   "metadata": {},
   "outputs": [
    {
     "name": "stdout",
     "output_type": "stream",
     "text": [
      "There are 13233 total human images.\n"
     ]
    }
   ],
   "source": [
    "import random\n",
    "random.seed(8675309)\n",
    "\n",
    "# load filenames in shuffled human dataset\n",
    "human_files = np.array(glob(\"lfw/*/*\"))\n",
    "random.shuffle(human_files)\n",
    "\n",
    "# print statistics about the dataset\n",
    "print('There are %d total human images.' % len(human_files))"
   ]
  },
  {
   "cell_type": "markdown",
   "metadata": {},
   "source": [
    "---\n",
    "<a id='step1'></a>\n",
    "## Step 1: Detect Humans\n",
    "\n",
    "We use OpenCV's implementation of [Haar feature-based cascade classifiers](http://docs.opencv.org/trunk/d7/d8b/tutorial_py_face_detection.html) to detect human faces in images.  OpenCV provides many pre-trained face detectors, stored as XML files on [github](https://github.com/opencv/opencv/tree/master/data/haarcascades).  We have downloaded one of these detectors and stored it in the `haarcascades` directory.\n",
    "\n",
    "In the next code cell, we demonstrate how to use this detector to find human faces in a sample image."
   ]
  },
  {
   "cell_type": "code",
   "execution_count": 7,
   "metadata": {},
   "outputs": [
    {
     "name": "stdout",
     "output_type": "stream",
     "text": [
      "Number of faces detected: 3\n"
     ]
    },
    {
     "data": {
      "image/png": "[encoded data removed]",
      "text/plain": [
       "<matplotlib.figure.Figure at 0x7fe834783588>"
      ]
     },
     "metadata": {},
     "output_type": "display_data"
    }
   ],
   "source": [
    "import cv2                \n",
    "import matplotlib.pyplot as plt                        \n",
    "%matplotlib inline                               \n",
    "\n",
    "# extract pre-trained face detector\n",
    "face_cascade = cv2.CascadeClassifier('haarcascades/haarcascade_frontalface_alt.xml')\n",
    "\n",
    "# load color (BGR) image\n",
    "img = cv2.imread(human_files[3])\n",
    "# convert BGR image to grayscale\n",
    "gray = cv2.cvtColor(img, cv2.COLOR_BGR2GRAY)\n",
    "\n",
    "# find faces in image\n",
    "faces = face_cascade.detectMultiScale(gray)\n",
    "\n",
    "# print number of faces detected in the image\n",
    "print('Number of faces detected:', len(faces))\n",
    "\n",
    "# get bounding box for each detected face\n",
    "for (x,y,w,h) in faces:\n",
    "    # add bounding box to color image\n",
    "    cv2.rectangle(img,(x,y),(x+w,y+h),(255,0,0),2)\n",
    "    \n",
    "# convert BGR image to RGB for plotting\n",
    "cv_rgb = cv2.cvtColor(img, cv2.COLOR_BGR2RGB)\n",
    "\n",
    "# display the image, along with bounding box\n",
    "plt.imshow(cv_rgb)\n",
    "plt.show()"
   ]
  },
  {
   "cell_type": "markdown",
   "metadata": {},
   "source": [
    "Before using any of the face detectors, it is standard procedure to convert the images to grayscale.  The `detectMultiScale` function executes the classifier stored in `face_cascade` and takes the grayscale image as a parameter.  \n",
    "\n",
    "In the above code, `faces` is a numpy array of detected faces, where each row corresponds to a detected face.  Each detected face is a 1D array with four entries that specifies the bounding box of the detected face.  The first two entries in the array (extracted in the above code as `x` and `y`) specify the horizontal and vertical positions of the top left corner of the bounding box.  The last two entries in the array (extracted here as `w` and `h`) specify the width and height of the box.\n",
    "\n",
    "### Write a Human Face Detector\n",
    "\n",
    "We can use this procedure to write a function that returns `True` if a human face is detected in an image and `False` otherwise.  This function, aptly named `face_detector`, takes a string-valued file path to an image as input and appears in the code block below."
   ]
  },
  {
   "cell_type": "code",
   "execution_count": 8,
   "metadata": {
    "collapsed": true
   },
   "outputs": [],
   "source": [
    "# returns \"True\" if face is detected in image stored at img_path\n",
    "def face_detector(img_path):\n",
    "    img = cv2.imread(img_path)\n",
    "    gray = cv2.cvtColor(img, cv2.COLOR_BGR2GRAY)\n",
    "    faces = face_cascade.detectMultiScale(gray)\n",
    "    return len(faces) > 0"
   ]
  },
  {
   "cell_type": "markdown",
   "metadata": {},
   "source": [
    "### (IMPLEMENTATION) Assess the Human Face Detector\n",
    "\n",
    "__Question 1:__ Use the code cell below to test the performance of the `face_detector` function.  \n",
    "- What percentage of the first 100 images in `human_files` have a detected human face?  \n",
    "- What percentage of the first 100 images in `dog_files` have a detected human face? \n",
    "\n",
    "Ideally, we would like 100% of human images with a detected face and 0% of dog images with a detected face.  You will see that our algorithm falls short of this goal, but still gives acceptable performance.  We extract the file paths for the first 100 images from each of the datasets and store them in the numpy arrays `human_files_short` and `dog_files_short`.\n",
    "\n",
    "__Answer:__ "
   ]
  },
  {
   "cell_type": "code",
   "execution_count": 24,
   "metadata": {
    "collapsed": true
   },
   "outputs": [],
   "source": [
    "# return the accuracy of a detector with given image dataset.\n",
    "def detector_accuracy(detector, images):\n",
    "    correct = 0\n",
    "    for img in images:\n",
    "        if detector(img):\n",
    "            correct += 1\n",
    "    return float(correct) / len(images)"
   ]
  },
  {
   "cell_type": "code",
   "execution_count": 14,
   "metadata": {},
   "outputs": [
    {
     "name": "stdout",
     "output_type": "stream",
     "text": [
      "The accuracy of human images is 0.99: \n",
      "The accuracy of dog images is 0.11: \n"
     ]
    }
   ],
   "source": [
    "human_files_short = human_files[:100]\n",
    "dog_files_short = train_files[:100]\n",
    "# Do NOT modify the code above this line.\n",
    "\n",
    "## TODO: Test the performance of the face_detector algorithm \n",
    "## on the images in human_files_short and dog_files_short.\n",
    "\n",
    "accuracy_human = detector_accuracy(face_detector, human_files_short)\n",
    "accuracy_dog = detector_accuracy(face_detector, dog_files_short)\n",
    "\n",
    "print(\"The accuracy of human images is: {0:.2f}\".format(accuracy_human))\n",
    "print(\"The accuracy of dog images is: {0:.2f}\".format(accuracy_dog))"
   ]
  },
  {
   "cell_type": "markdown",
   "metadata": {},
   "source": [
    "__Question 2:__ This algorithmic choice necessitates that we communicate to the user that we accept human images only when they provide a clear view of a face (otherwise, we risk having unneccessarily frustrated users!). In your opinion, is this a reasonable expectation to pose on the user? If not, can you think of a way to detect humans in images that does not necessitate an image with a clearly presented face?\n",
    "\n",
    "__Answer:__\n",
    "\n",
    "We suggest the face detector from OpenCV as a potential way to detect human images in your algorithm, but you are free to explore other approaches, especially approaches that make use of deep learning :).  Please use the code cell below to design and test your own face detection algorithm.  If you decide to pursue this _optional_ task, report performance on each of the datasets."
   ]
  },
  {
   "cell_type": "code",
   "execution_count": 25,
   "metadata": {},
   "outputs": [
    {
     "name": "stdout",
     "output_type": "stream",
     "text": [
      "The autoreload extension is already loaded. To reload it, use:\n",
      "  %reload_ext autoreload\n"
     ]
    },
    {
     "ename": "ImportError",
     "evalue": "libmkl_rt.so: cannot open shared object file: No such file or directory",
     "output_type": "error",
     "traceback": [
      "\u001b[0;31m---------------------------------------------------------------------------\u001b[0m",
      "\u001b[0;31mImportError\u001b[0m                               Traceback (most recent call last)",
      "\u001b[0;32m<ipython-input-25-81706b49428b>\u001b[0m in \u001b[0;36m<module>\u001b[0;34m()\u001b[0m\n\u001b[1;32m      5\u001b[0m \u001b[0mget_ipython\u001b[0m\u001b[0;34m(\u001b[0m\u001b[0;34m)\u001b[0m\u001b[0;34m.\u001b[0m\u001b[0mmagic\u001b[0m\u001b[0;34m(\u001b[0m\u001b[0;34m'autoreload 2'\u001b[0m\u001b[0;34m)\u001b[0m\u001b[0;34m\u001b[0m\u001b[0m\n\u001b[1;32m      6\u001b[0m \u001b[0;34m\u001b[0m\u001b[0m\n\u001b[0;32m----> 7\u001b[0;31m \u001b[0;32mimport\u001b[0m \u001b[0mface_recognition\u001b[0m\u001b[0;34m\u001b[0m\u001b[0m\n\u001b[0m\u001b[1;32m      8\u001b[0m \u001b[0;34m\u001b[0m\u001b[0m\n\u001b[1;32m      9\u001b[0m \u001b[0mimage\u001b[0m \u001b[0;34m=\u001b[0m \u001b[0mface_recognition\u001b[0m\u001b[0;34m.\u001b[0m\u001b[0mload_image_file\u001b[0m\u001b[0;34m(\u001b[0m\u001b[0;34m\"human_files[3]\"\u001b[0m\u001b[0;34m)\u001b[0m\u001b[0;34m\u001b[0m\u001b[0m\n",
      "\u001b[0;32m/home/aind2/anaconda3/envs/aind2/lib/python3.6/site-packages/face_recognition/__init__.py\u001b[0m in \u001b[0;36m<module>\u001b[0;34m()\u001b[0m\n\u001b[1;32m      5\u001b[0m \u001b[0m__version__\u001b[0m \u001b[0;34m=\u001b[0m \u001b[0;34m'0.1.0'\u001b[0m\u001b[0;34m\u001b[0m\u001b[0m\n\u001b[1;32m      6\u001b[0m \u001b[0;34m\u001b[0m\u001b[0m\n\u001b[0;32m----> 7\u001b[0;31m \u001b[0;32mfrom\u001b[0m \u001b[0;34m.\u001b[0m\u001b[0mapi\u001b[0m \u001b[0;32mimport\u001b[0m \u001b[0mload_image_file\u001b[0m\u001b[0;34m,\u001b[0m \u001b[0mface_locations\u001b[0m\u001b[0;34m,\u001b[0m \u001b[0mface_landmarks\u001b[0m\u001b[0;34m,\u001b[0m \u001b[0mface_encodings\u001b[0m\u001b[0;34m,\u001b[0m \u001b[0mcompare_faces\u001b[0m\u001b[0;34m,\u001b[0m \u001b[0mface_distance\u001b[0m\u001b[0;34m\u001b[0m\u001b[0m\n\u001b[0m",
      "\u001b[0;32m/home/aind2/anaconda3/envs/aind2/lib/python3.6/site-packages/face_recognition/api.py\u001b[0m in \u001b[0;36m<module>\u001b[0;34m()\u001b[0m\n\u001b[1;32m      2\u001b[0m \u001b[0;34m\u001b[0m\u001b[0m\n\u001b[1;32m      3\u001b[0m \u001b[0;32mimport\u001b[0m \u001b[0mscipy\u001b[0m\u001b[0;34m.\u001b[0m\u001b[0mmisc\u001b[0m\u001b[0;34m\u001b[0m\u001b[0m\n\u001b[0;32m----> 4\u001b[0;31m \u001b[0;32mimport\u001b[0m \u001b[0mdlib\u001b[0m\u001b[0;34m\u001b[0m\u001b[0m\n\u001b[0m\u001b[1;32m      5\u001b[0m \u001b[0;32mimport\u001b[0m \u001b[0mnumpy\u001b[0m \u001b[0;32mas\u001b[0m \u001b[0mnp\u001b[0m\u001b[0;34m\u001b[0m\u001b[0m\n\u001b[1;32m      6\u001b[0m \u001b[0;34m\u001b[0m\u001b[0m\n",
      "\u001b[0;32m/home/aind2/anaconda3/envs/aind2/lib/python3.6/site-packages/dlib/__init__.py\u001b[0m in \u001b[0;36m<module>\u001b[0;34m()\u001b[0m\n\u001b[0;32m----> 1\u001b[0;31m \u001b[0;32mfrom\u001b[0m \u001b[0;34m.\u001b[0m\u001b[0mdlib\u001b[0m \u001b[0;32mimport\u001b[0m \u001b[0;34m*\u001b[0m\u001b[0;34m\u001b[0m\u001b[0m\n\u001b[0m\u001b[1;32m      2\u001b[0m \u001b[0m__version__\u001b[0m \u001b[0;34m=\u001b[0m \u001b[0;34m\"19.4.0\"\u001b[0m\u001b[0;34m\u001b[0m\u001b[0m\n",
      "\u001b[0;31mImportError\u001b[0m: libmkl_rt.so: cannot open shared object file: No such file or directory"
     ]
    }
   ],
   "source": [
    "## (Optional) TODO: Report the performance of another  \n",
    "## face detection algorithm on the LFW dataset\n",
    "### Feel free to use as many code cells as needed.\n",
    "%load_ext autoreload\n",
    "%autoreload 2\n",
    "\n",
    "import face_recognition\n",
    "\n",
    "image = face_recognition.load_image_file(\"human_files[3]\")\n",
    "face_locations = face_recognition.face_locations(image)\n",
    "print(face_locations)\n"
   ]
  },
  {
   "cell_type": "markdown",
   "metadata": {},
   "source": [
    "---\n",
    "<a id='step2'></a>\n",
    "## Step 2: Detect Dogs\n",
    "\n",
    "In this section, we use a pre-trained [ResNet-50](http://ethereon.github.io/netscope/#/gist/db945b393d40bfa26006) model to detect dogs in images.  Our first line of code downloads the ResNet-50 model, along with weights that have been trained on [ImageNet](http://www.image-net.org/), a very large, very popular dataset used for image classification and other vision tasks.  ImageNet contains over 10 million URLs, each linking to an image containing an object from one of [1000 categories](https://gist.github.com/yrevar/942d3a0ac09ec9e5eb3a).  Given an image, this pre-trained ResNet-50 model returns a prediction (derived from the available categories in ImageNet) for the object that is contained in the image."
   ]
  },
  {
   "cell_type": "code",
   "execution_count": 15,
   "metadata": {},
   "outputs": [
    {
     "name": "stdout",
     "output_type": "stream",
     "text": [
      "Downloading data from https://github.com/fchollet/deep-learning-models/releases/download/v0.2/resnet50_weights_tf_dim_ordering_tf_kernels.h5\n"
     ]
    }
   ],
   "source": [
    "from keras.applications.resnet50 import ResNet50\n",
    "\n",
    "# define ResNet50 model\n",
    "ResNet50_model = ResNet50(weights='imagenet')"
   ]
  },
  {
   "cell_type": "markdown",
   "metadata": {},
   "source": [
    "### Pre-process the Data\n",
    "\n",
    "When using TensorFlow as backend, Keras CNNs require a 4D array (which we'll also refer to as a 4D tensor) as input, with shape\n",
    "\n",
    "$$\n",
    "(\\text{nb_samples}, \\text{rows}, \\text{columns}, \\text{channels}),\n",
    "$$\n",
    "\n",
    "where `nb_samples` corresponds to the total number of images (or samples), and `rows`, `columns`, and `channels` correspond to the number of rows, columns, and channels for each image, respectively.  \n",
    "\n",
    "The `path_to_tensor` function below takes a string-valued file path to a color image as input and returns a 4D tensor suitable for supplying to a Keras CNN.  The function first loads the image and resizes it to a square image that is $224 \\times 224$ pixels.  Next, the image is converted to an array, which is then resized to a 4D tensor.  In this case, since we are working with color images, each image has three channels.  Likewise, since we are processing a single image (or sample), the returned tensor will always have shape\n",
    "\n",
    "$$\n",
    "(1, 224, 224, 3).\n",
    "$$\n",
    "\n",
    "The `paths_to_tensor` function takes a numpy array of string-valued image paths as input and returns a 4D tensor with shape \n",
    "\n",
    "$$\n",
    "(\\text{nb_samples}, 224, 224, 3).\n",
    "$$\n",
    "\n",
    "Here, `nb_samples` is the number of samples, or number of images, in the supplied array of image paths.  It is best to think of `nb_samples` as the number of 3D tensors (where each 3D tensor corresponds to a different image) in your dataset!"
   ]
  },
  {
   "cell_type": "code",
   "execution_count": 16,
   "metadata": {
    "collapsed": true
   },
   "outputs": [],
   "source": [
    "from keras.preprocessing import image                  \n",
    "from tqdm import tqdm\n",
    "\n",
    "def path_to_tensor(img_path):\n",
    "    # loads RGB image as PIL.Image.Image type\n",
    "    img = image.load_img(img_path, target_size=(224, 224))\n",
    "    # convert PIL.Image.Image type to 3D tensor with shape (224, 224, 3)\n",
    "    x = image.img_to_array(img)\n",
    "    # convert 3D tensor to 4D tensor with shape (1, 224, 224, 3) and return 4D tensor\n",
    "    return np.expand_dims(x, axis=0)\n",
    "\n",
    "def paths_to_tensor(img_paths):\n",
    "    list_of_tensors = [path_to_tensor(img_path) for img_path in tqdm(img_paths)]\n",
    "    return np.vstack(list_of_tensors)"
   ]
  },
  {
   "cell_type": "markdown",
   "metadata": {},
   "source": [
    "### Making Predictions with ResNet-50\n",
    "\n",
    "Getting the 4D tensor ready for ResNet-50, and for any other pre-trained model in Keras, requires some additional processing.  First, the RGB image is converted to BGR by reordering the channels.  All pre-trained models have the additional normalization step that the mean pixel (expressed in RGB as $[103.939, 116.779, 123.68]$ and calculated from all pixels in all images in ImageNet) must be subtracted from every pixel in each image.  This is implemented in the imported function `preprocess_input`.  If you're curious, you can check the code for `preprocess_input` [here](https://github.com/fchollet/keras/blob/master/keras/applications/imagenet_utils.py).\n",
    "\n",
    "Now that we have a way to format our image for supplying to ResNet-50, we are now ready to use the model to extract the predictions.  This is accomplished with the `predict` method, which returns an array whose $i$-th entry is the model's predicted probability that the image belongs to the $i$-th ImageNet category.  This is implemented in the `ResNet50_predict_labels` function below.\n",
    "\n",
    "By taking the argmax of the predicted probability vector, we obtain an integer corresponding to the model's predicted object class, which we can identify with an object category through the use of this [dictionary](https://gist.github.com/yrevar/942d3a0ac09ec9e5eb3a). "
   ]
  },
  {
   "cell_type": "code",
   "execution_count": 20,
   "metadata": {
    "collapsed": true
   },
   "outputs": [],
   "source": [
    "from keras.applications.resnet50 import preprocess_input, decode_predictions\n",
    "\n",
    "def ResNet50_predict_labels(img_path):\n",
    "    # returns prediction vector for image located at img_path\n",
    "    img = preprocess_input(path_to_tensor(img_path))\n",
    "    return np.argmax(ResNet50_model.predict(img))"
   ]
  },
  {
   "cell_type": "markdown",
   "metadata": {},
   "source": [
    "### Write a Dog Detector\n",
    "\n",
    "While looking at the [dictionary](https://gist.github.com/yrevar/942d3a0ac09ec9e5eb3a), you will notice that the categories corresponding to dogs appear in an uninterrupted sequence and correspond to dictionary keys 151-268, inclusive, to include all categories from `'Chihuahua'` to `'Mexican hairless'`.  Thus, in order to check to see if an image is predicted to contain a dog by the pre-trained ResNet-50 model, we need only check if the `ResNet50_predict_labels` function above returns a value between 151 and 268 (inclusive).\n",
    "\n",
    "We use these ideas to complete the `dog_detector` function below, which returns `True` if a dog is detected in an image (and `False` if not)."
   ]
  },
  {
   "cell_type": "code",
   "execution_count": 22,
   "metadata": {
    "collapsed": true
   },
   "outputs": [],
   "source": [
    "### returns \"True\" if a dog is detected in the image stored at img_path\n",
    "def dog_detector(img_path):\n",
    "    prediction = ResNet50_predict_labels(img_path)\n",
    "    return ((prediction <= 268) & (prediction >= 151)) "
   ]
  },
  {
   "cell_type": "markdown",
   "metadata": {},
   "source": [
    "### (IMPLEMENTATION) Assess the Dog Detector\n",
    "\n",
    "__Question 3:__ Use the code cell below to test the performance of your `dog_detector` function.  \n",
    "- What percentage of the images in `human_files_short` have a detected dog?  \n",
    "- What percentage of the images in `dog_files_short` have a detected dog?\n",
    "\n",
    "__Answer:__ "
   ]
  },
  {
   "cell_type": "code",
   "execution_count": 23,
   "metadata": {},
   "outputs": [
    {
     "name": "stdout",
     "output_type": "stream",
     "text": [
      "The accuracy of human images is: 0.00\n",
      "The accuracy of dog images is: 1.00\n"
     ]
    }
   ],
   "source": [
    "### TODO: Test the performance of the dog_detector function\n",
    "### on the images in human_files_short and dog_files_short.\n",
    "\n",
    "accuracy_human = detector_accuracy(dog_detector, human_files_short)\n",
    "accuracy_dog = detector_accuracy(dog_detector, dog_files_short)\n",
    "\n",
    "print(\"The accuracy of human images is: {0:.2f}\".format(accuracy_human))\n",
    "print(\"The accuracy of dog images is: {0:.2f}\".format(accuracy_dog))"
   ]
  },
  {
   "cell_type": "markdown",
   "metadata": {},
   "source": [
    "---\n",
    "<a id='step3'></a>\n",
    "## Step 3: Create a CNN to Classify Dog Breeds (from Scratch)\n",
    "\n",
    "Now that we have functions for detecting humans and dogs in images, we need a way to predict breed from images.  In this step, you will create a CNN that classifies dog breeds.  You must create your CNN _from scratch_ (so, you can't use transfer learning _yet_!), and you must attain a test accuracy of at least 1%.  In Step 5 of this notebook, you will have the opportunity to use transfer learning to create a CNN that attains greatly improved accuracy.\n",
    "\n",
    "Be careful with adding too many trainable layers!  More parameters means longer training, which means you are more likely to need a GPU to accelerate the training process.  Thankfully, Keras provides a handy estimate of the time that each epoch is likely to take; you can extrapolate this estimate to figure out how long it will take for your algorithm to train. \n",
    "\n",
    "We mention that the task of assigning breed to dogs from images is considered exceptionally challenging.  To see why, consider that *even a human* would have great difficulty in distinguishing between a Brittany and a Welsh Springer Spaniel.  \n",
    "\n",
    "Brittany | Welsh Springer Spaniel\n",
    "- | - \n",
    "<img src=\"images/Brittany_02625.jpg\" width=\"100\"> | <img src=\"images/Welsh_springer_spaniel_08203.jpg\" width=\"200\">\n",
    "\n",
    "It is not difficult to find other dog breed pairs with minimal inter-class variation (for instance, Curly-Coated Retrievers and American Water Spaniels).  \n",
    "\n",
    "Curly-Coated Retriever | American Water Spaniel\n",
    "- | -\n",
    "<img src=\"images/Curly-coated_retriever_03896.jpg\" width=\"200\"> | <img src=\"images/American_water_spaniel_00648.jpg\" width=\"200\">\n",
    "\n",
    "\n",
    "Likewise, recall that labradors come in yellow, chocolate, and black.  Your vision-based algorithm will have to conquer this high intra-class variation to determine how to classify all of these different shades as the same breed.  \n",
    "\n",
    "Yellow Labrador | Chocolate Labrador | Black Labrador\n",
    "- | -\n",
    "<img src=\"images/Labrador_retriever_06457.jpg\" width=\"150\"> | <img src=\"images/Labrador_retriever_06455.jpg\" width=\"240\"> | <img src=\"images/Labrador_retriever_06449.jpg\" width=\"220\">\n",
    "\n",
    "We also mention that random chance presents an exceptionally low bar: setting aside the fact that the classes are slightly imabalanced, a random guess will provide a correct answer roughly 1 in 133 times, which corresponds to an accuracy of less than 1%.  \n",
    "\n",
    "Remember that the practice is far ahead of the theory in deep learning.  Experiment with many different architectures, and trust your intuition.  And, of course, have fun! \n",
    "\n",
    "### Pre-process the Data\n",
    "\n",
    "We rescale the images by dividing every pixel in every image by 255."
   ]
  },
  {
   "cell_type": "code",
   "execution_count": 26,
   "metadata": {},
   "outputs": [
    {
     "name": "stderr",
     "output_type": "stream",
     "text": [
      "100%|██████████| 6680/6680 [00:57<00:00, 115.61it/s]\n",
      "100%|██████████| 835/835 [00:06<00:00, 129.57it/s]\n",
      "100%|██████████| 836/836 [00:06<00:00, 130.14it/s]\n"
     ]
    }
   ],
   "source": [
    "from PIL import ImageFile                            \n",
    "ImageFile.LOAD_TRUNCATED_IMAGES = True                 \n",
    "\n",
    "# pre-process the data for Keras\n",
    "train_tensors = paths_to_tensor(train_files).astype('float32')/255\n",
    "valid_tensors = paths_to_tensor(valid_files).astype('float32')/255\n",
    "test_tensors = paths_to_tensor(test_files).astype('float32')/255"
   ]
  },
  {
   "cell_type": "markdown",
   "metadata": {},
   "source": [
    "### (IMPLEMENTATION) Model Architecture\n",
    "\n",
    "Create a CNN to classify dog breed.  At the end of your code cell block, summarize the layers of your model by executing the line:\n",
    "    \n",
    "        model.summary()\n",
    "\n",
    "We have imported some Python modules to get you started, but feel free to import as many modules as you need.  If you end up getting stuck, here's a hint that specifies a model that trains relatively fast on CPU and attains >1% test accuracy in 5 epochs:\n",
    "\n",
    "![Sample CNN](images/sample_cnn.png)\n",
    "           \n",
    "__Question 4:__ Outline the steps you took to get to your final CNN architecture and your reasoning at each step.  If you chose to use the hinted architecture above, describe why you think that CNN architecture should work well for the image classification task.\n",
    "\n",
    "__Answer:__ "
   ]
  },
  {
   "cell_type": "code",
   "execution_count": 29,
   "metadata": {},
   "outputs": [
    {
     "name": "stdout",
     "output_type": "stream",
     "text": [
      "_________________________________________________________________\n",
      "Layer (type)                 Output Shape              Param #   \n",
      "=================================================================\n",
      "conv2d_11 (Conv2D)           (None, 56, 56, 16)        5824      \n",
      "_________________________________________________________________\n",
      "max_pooling2d_8 (MaxPooling2 (None, 27, 27, 16)        0         \n",
      "_________________________________________________________________\n",
      "dropout_11 (Dropout)         (None, 27, 27, 16)        0         \n",
      "_________________________________________________________________\n",
      "conv2d_12 (Conv2D)           (None, 27, 27, 32)        12832     \n",
      "_________________________________________________________________\n",
      "max_pooling2d_9 (MaxPooling2 (None, 13, 13, 32)        0         \n",
      "_________________________________________________________________\n",
      "dropout_12 (Dropout)         (None, 13, 13, 32)        0         \n",
      "_________________________________________________________________\n",
      "conv2d_13 (Conv2D)           (None, 13, 13, 64)        18496     \n",
      "_________________________________________________________________\n",
      "conv2d_14 (Conv2D)           (None, 13, 13, 64)        36928     \n",
      "_________________________________________________________________\n",
      "conv2d_15 (Conv2D)           (None, 13, 13, 32)        18464     \n",
      "_________________________________________________________________\n",
      "max_pooling2d_10 (MaxPooling (None, 6, 6, 32)          0         \n",
      "_________________________________________________________________\n",
      "dropout_13 (Dropout)         (None, 6, 6, 32)          0         \n",
      "_________________________________________________________________\n",
      "flatten_4 (Flatten)          (None, 1152)              0         \n",
      "_________________________________________________________________\n",
      "dense_7 (Dense)              (None, 256)               295168    \n",
      "_________________________________________________________________\n",
      "dropout_14 (Dropout)         (None, 256)               0         \n",
      "_________________________________________________________________\n",
      "dense_8 (Dense)              (None, 512)               131584    \n",
      "_________________________________________________________________\n",
      "dropout_15 (Dropout)         (None, 512)               0         \n",
      "_________________________________________________________________\n",
      "dense_9 (Dense)              (None, 133)               68229     \n",
      "=================================================================\n",
      "Total params: 587,525\n",
      "Trainable params: 587,525\n",
      "Non-trainable params: 0\n",
      "_________________________________________________________________\n"
     ]
    }
   ],
   "source": [
    "from keras.layers import Conv2D, MaxPooling2D, GlobalAveragePooling2D\n",
    "from keras.layers import Dropout, Flatten, Dense\n",
    "from keras.models import Sequential\n",
    "\n",
    "model = Sequential()\n",
    "\n",
    "### TODO: Define your architecture.\n",
    "# Layer 1: 55 * 55 * 16 \n",
    "model.add(Conv2D(filters=16, kernel_size=11, strides=4, padding='same', activation='relu', \n",
    "                        input_shape=(224, 224, 3)))\n",
    "model.add(BatchNormalization())\n",
    "model.add(MaxPooling2D(pool_size=3, strides=2))\n",
    "\n",
    "\n",
    "# Layer 2: 27 * 27 * 32 \n",
    "model.add(Conv2D(filters=32, kernel_size=5, padding='same', activation='relu'))\n",
    "model.add(BatchNormalization())\n",
    "model.add(MaxPooling2D(pool_size=3, strides=2))\n",
    "\n",
    "\n",
    "# Lyaer 3: 13 * 13 * 64\n",
    "model.add(Conv2D(filters=64, kernel_size=3, padding='same', activation='relu'))\n",
    "\n",
    "# Layer 4: 13 * 13 * 64\n",
    "model.add(Conv2D(filters=64, kernel_size=3, padding='same', activation='relu'))\n",
    "\n",
    "# Layer 5: 13 * 13 * 32\n",
    "model.add(Conv2D(filters=32, kernel_size=3, padding='same', activation='relu'))\n",
    "model.add(MaxPooling2D(pool_size=2, strides=2))\n",
    "model.add(Dropout(0.3))\n",
    "\n",
    "# Layer 6: Fully connected layer\n",
    "model.add(Flatten())\n",
    "model.add(Dense(256, activation='relu'))\n",
    "model.add(Dropout(0.4))\n",
    "\n",
    "# Layer7 : Fully connected layer\n",
    "model.add(Dense(512, activation='relu'))\n",
    "model.add(Dropout(0.4))\n",
    "\n",
    "# Layer 8: Output Layer\n",
    "model.add(Dense(133, activation='softmax'))\n",
    "\n",
    "model.summary()"
   ]
  },
  {
   "cell_type": "markdown",
   "metadata": {},
   "source": [
    "### Compile the Model"
   ]
  },
  {
   "cell_type": "code",
   "execution_count": 30,
   "metadata": {
    "collapsed": true
   },
   "outputs": [],
   "source": [
    "model.compile(optimizer='rmsprop', loss='categorical_crossentropy', metrics=['accuracy'])"
   ]
  },
  {
   "cell_type": "markdown",
   "metadata": {},
   "source": [
    "### (IMPLEMENTATION) Train the Model\n",
    "\n",
    "Train your model in the code cell below.  Use model checkpointing to save the model that attains the best validation loss.\n",
    "\n",
    "You are welcome to [augment the training data](https://blog.keras.io/building-powerful-image-classification-models-using-very-little-data.html), but this is not a requirement. "
   ]
  },
  {
   "cell_type": "code",
   "execution_count": 31,
   "metadata": {},
   "outputs": [
    {
     "name": "stdout",
     "output_type": "stream",
     "text": [
      "Train on 6680 samples, validate on 835 samples\n",
      "Epoch 1/100\n",
      "6660/6680 [============================>.] - ETA: 0s - loss: 4.8886 - acc: 0.0084Epoch 00000: val_loss improved from inf to 4.87346, saving model to saved_models/weights.best.from_scratch.hdf5\n",
      "6680/6680 [==============================] - 14s - loss: 4.8887 - acc: 0.0084 - val_loss: 4.8735 - val_acc: 0.0108\n",
      "Epoch 2/100\n",
      "6660/6680 [============================>.] - ETA: 0s - loss: 4.8757 - acc: 0.0081Epoch 00001: val_loss improved from 4.87346 to 4.86924, saving model to saved_models/weights.best.from_scratch.hdf5\n",
      "6680/6680 [==============================] - 13s - loss: 4.8757 - acc: 0.0081 - val_loss: 4.8692 - val_acc: 0.0108\n",
      "Epoch 3/100\n",
      "6660/6680 [============================>.] - ETA: 0s - loss: 4.8726 - acc: 0.0098Epoch 00002: val_loss improved from 4.86924 to 4.86818, saving model to saved_models/weights.best.from_scratch.hdf5\n",
      "6680/6680 [==============================] - 13s - loss: 4.8724 - acc: 0.0099 - val_loss: 4.8682 - val_acc: 0.0108\n",
      "Epoch 4/100\n",
      "6660/6680 [============================>.] - ETA: 0s - loss: 4.8707 - acc: 0.0114Epoch 00003: val_loss did not improve\n",
      "6680/6680 [==============================] - 13s - loss: 4.8706 - acc: 0.0114 - val_loss: 4.8684 - val_acc: 0.0108\n",
      "Epoch 5/100\n",
      "6660/6680 [============================>.] - ETA: 0s - loss: 4.8701 - acc: 0.0101Epoch 00004: val_loss did not improve\n",
      "6680/6680 [==============================] - 13s - loss: 4.8699 - acc: 0.0100 - val_loss: 4.8689 - val_acc: 0.0108\n",
      "Epoch 6/100\n",
      "6660/6680 [============================>.] - ETA: 0s - loss: 4.8671 - acc: 0.0113Epoch 00005: val_loss did not improve\n",
      "6680/6680 [==============================] - 13s - loss: 4.8673 - acc: 0.0114 - val_loss: 4.8686 - val_acc: 0.0108\n",
      "Epoch 7/100\n",
      "6660/6680 [============================>.] - ETA: 0s - loss: 4.8666 - acc: 0.0114Epoch 00006: val_loss did not improve\n",
      "6680/6680 [==============================] - 13s - loss: 4.8667 - acc: 0.0114 - val_loss: 4.8686 - val_acc: 0.0108\n",
      "Epoch 8/100\n",
      "6660/6680 [============================>.] - ETA: 0s - loss: 4.8662 - acc: 0.0113Epoch 00007: val_loss did not improve\n",
      "6680/6680 [==============================] - 13s - loss: 4.8663 - acc: 0.0112 - val_loss: 4.8690 - val_acc: 0.0120\n",
      "Epoch 9/100\n",
      "6660/6680 [============================>.] - ETA: 0s - loss: 4.8685 - acc: 0.0108Epoch 00008: val_loss did not improve\n",
      "6680/6680 [==============================] - 13s - loss: 4.8684 - acc: 0.0109 - val_loss: 4.8690 - val_acc: 0.0108\n",
      "Epoch 10/100\n",
      "6660/6680 [============================>.] - ETA: 0s - loss: 4.8672 - acc: 0.0110Epoch 00009: val_loss did not improve\n",
      "6680/6680 [==============================] - 13s - loss: 4.8671 - acc: 0.0111 - val_loss: 4.8688 - val_acc: 0.0108\n",
      "Epoch 11/100\n",
      "6660/6680 [============================>.] - ETA: 0s - loss: 4.8664 - acc: 0.0116Epoch 00010: val_loss did not improve\n",
      "6680/6680 [==============================] - 13s - loss: 4.8666 - acc: 0.0115 - val_loss: 4.8687 - val_acc: 0.0108\n",
      "Epoch 12/100\n",
      "6660/6680 [============================>.] - ETA: 0s - loss: 4.8654 - acc: 0.0114Epoch 00011: val_loss did not improve\n",
      "6680/6680 [==============================] - 13s - loss: 4.8654 - acc: 0.0114 - val_loss: 4.8688 - val_acc: 0.0108\n",
      "Epoch 13/100\n",
      "6660/6680 [============================>.] - ETA: 0s - loss: 4.8659 - acc: 0.0092Epoch 00012: val_loss did not improve\n",
      "6680/6680 [==============================] - 13s - loss: 4.8659 - acc: 0.0091 - val_loss: 4.8693 - val_acc: 0.0108\n",
      "Epoch 14/100\n",
      "6660/6680 [============================>.] - ETA: 0s - loss: 4.8650 - acc: 0.0104Epoch 00013: val_loss did not improve\n",
      "6680/6680 [==============================] - 13s - loss: 4.8649 - acc: 0.0106 - val_loss: 4.8687 - val_acc: 0.0108\n",
      "Epoch 15/100\n",
      "6660/6680 [============================>.] - ETA: 0s - loss: 4.8646 - acc: 0.0102Epoch 00014: val_loss did not improve\n",
      "6680/6680 [==============================] - 13s - loss: 4.8647 - acc: 0.0102 - val_loss: 4.8694 - val_acc: 0.0108\n",
      "Epoch 16/100\n",
      "6660/6680 [============================>.] - ETA: 0s - loss: 4.8644 - acc: 0.0108Epoch 00015: val_loss did not improve\n",
      "6680/6680 [==============================] - 13s - loss: 4.8645 - acc: 0.0108 - val_loss: 4.8698 - val_acc: 0.0108\n",
      "Epoch 17/100\n",
      "6660/6680 [============================>.] - ETA: 0s - loss: 4.8650 - acc: 0.0116Epoch 00016: val_loss did not improve\n",
      "6680/6680 [==============================] - 13s - loss: 4.8650 - acc: 0.0117 - val_loss: 4.8687 - val_acc: 0.0108\n",
      "Epoch 18/100\n",
      "6660/6680 [============================>.] - ETA: 0s - loss: 4.8642 - acc: 0.0113Epoch 00017: val_loss did not improve\n",
      "6680/6680 [==============================] - 13s - loss: 4.8642 - acc: 0.0112 - val_loss: 4.8689 - val_acc: 0.0108\n",
      "Epoch 19/100\n",
      "6660/6680 [============================>.] - ETA: 0s - loss: 4.8640 - acc: 0.0116Epoch 00018: val_loss did not improve\n",
      "6680/6680 [==============================] - 13s - loss: 4.8642 - acc: 0.0115 - val_loss: 4.8698 - val_acc: 0.0108\n",
      "Epoch 20/100\n",
      "6660/6680 [============================>.] - ETA: 0s - loss: 4.8644 - acc: 0.0116Epoch 00019: val_loss did not improve\n",
      "6680/6680 [==============================] - 13s - loss: 4.8645 - acc: 0.0115 - val_loss: 4.8687 - val_acc: 0.0108\n",
      "Epoch 21/100\n",
      "6660/6680 [============================>.] - ETA: 0s - loss: 4.8640 - acc: 0.0116Epoch 00020: val_loss did not improve\n",
      "6680/6680 [==============================] - 13s - loss: 4.8641 - acc: 0.0115 - val_loss: 4.8695 - val_acc: 0.0108\n",
      "Epoch 22/100\n",
      "6660/6680 [============================>.] - ETA: 0s - loss: 4.8645 - acc: 0.0114Epoch 00021: val_loss did not improve\n",
      "6680/6680 [==============================] - 13s - loss: 4.8645 - acc: 0.0114 - val_loss: 4.8685 - val_acc: 0.0108\n",
      "Epoch 23/100\n",
      "6660/6680 [============================>.] - ETA: 0s - loss: 4.8641 - acc: 0.0099Epoch 00022: val_loss did not improve\n",
      "6680/6680 [==============================] - 13s - loss: 4.8641 - acc: 0.0099 - val_loss: 4.8686 - val_acc: 0.0108\n",
      "Epoch 24/100\n",
      "6660/6680 [============================>.] - ETA: 0s - loss: 4.8640 - acc: 0.0104Epoch 00023: val_loss did not improve\n",
      "6680/6680 [==============================] - 13s - loss: 4.8640 - acc: 0.0103 - val_loss: 4.8686 - val_acc: 0.0108\n",
      "Epoch 25/100\n",
      "6660/6680 [============================>.] - ETA: 0s - loss: 4.8640 - acc: 0.0114Epoch 00024: val_loss did not improve\n",
      "6680/6680 [==============================] - 13s - loss: 4.8640 - acc: 0.0115 - val_loss: 4.8687 - val_acc: 0.0108\n",
      "Epoch 26/100\n",
      "6660/6680 [============================>.] - ETA: 0s - loss: 4.8637 - acc: 0.0116Epoch 00025: val_loss did not improve\n",
      "6680/6680 [==============================] - 13s - loss: 4.8638 - acc: 0.0115 - val_loss: 4.8688 - val_acc: 0.0108\n",
      "Epoch 27/100\n",
      "6660/6680 [============================>.] - ETA: 0s - loss: 4.8638 - acc: 0.0114Epoch 00026: val_loss did not improve\n",
      "6680/6680 [==============================] - 13s - loss: 4.8639 - acc: 0.0115 - val_loss: 4.8687 - val_acc: 0.0108\n",
      "Epoch 28/100\n",
      "6660/6680 [============================>.] - ETA: 0s - loss: 4.8637 - acc: 0.0114Epoch 00027: val_loss did not improve\n",
      "6680/6680 [==============================] - 13s - loss: 4.8636 - acc: 0.0115 - val_loss: 4.8689 - val_acc: 0.0108\n",
      "Epoch 29/100\n",
      "6660/6680 [============================>.] - ETA: 0s - loss: 4.8635 - acc: 0.0116Epoch 00028: val_loss did not improve\n",
      "6680/6680 [==============================] - 13s - loss: 4.8635 - acc: 0.0115 - val_loss: 4.8691 - val_acc: 0.0108\n",
      "Epoch 30/100\n",
      "6660/6680 [============================>.] - ETA: 0s - loss: 4.8634 - acc: 0.0116Epoch 00029: val_loss did not improve\n",
      "6680/6680 [==============================] - 13s - loss: 4.8635 - acc: 0.0115 - val_loss: 4.8691 - val_acc: 0.0108\n",
      "Epoch 31/100\n",
      "6660/6680 [============================>.] - ETA: 0s - loss: 4.8636 - acc: 0.0116Epoch 00030: val_loss did not improve\n",
      "6680/6680 [==============================] - 13s - loss: 4.8635 - acc: 0.0115 - val_loss: 4.8694 - val_acc: 0.0108\n",
      "Epoch 32/100\n",
      "6660/6680 [============================>.] - ETA: 0s - loss: 4.8634 - acc: 0.0116Epoch 00031: val_loss did not improve\n",
      "6680/6680 [==============================] - 13s - loss: 4.8635 - acc: 0.0115 - val_loss: 4.8693 - val_acc: 0.0108\n",
      "Epoch 33/100\n"
     ]
    },
    {
     "name": "stdout",
     "output_type": "stream",
     "text": [
      "6660/6680 [============================>.] - ETA: 0s - loss: 4.8632 - acc: 0.0116Epoch 00032: val_loss did not improve\n",
      "6680/6680 [==============================] - 13s - loss: 4.8634 - acc: 0.0115 - val_loss: 4.8695 - val_acc: 0.0108\n",
      "Epoch 34/100\n",
      "6660/6680 [============================>.] - ETA: 0s - loss: 4.8637 - acc: 0.0114Epoch 00033: val_loss did not improve\n",
      "6680/6680 [==============================] - 13s - loss: 4.8634 - acc: 0.0115 - val_loss: 4.8696 - val_acc: 0.0108\n",
      "Epoch 35/100\n",
      "6660/6680 [============================>.] - ETA: 0s - loss: 4.8632 - acc: 0.0116Epoch 00034: val_loss did not improve\n",
      "6680/6680 [==============================] - 13s - loss: 4.8636 - acc: 0.0115 - val_loss: 4.8699 - val_acc: 0.0108\n",
      "Epoch 36/100\n",
      "6660/6680 [============================>.] - ETA: 0s - loss: 4.8634 - acc: 0.0116Epoch 00035: val_loss did not improve\n",
      "6680/6680 [==============================] - 13s - loss: 4.8636 - acc: 0.0115 - val_loss: 4.8700 - val_acc: 0.0108\n",
      "Epoch 37/100\n",
      "6660/6680 [============================>.] - ETA: 0s - loss: 4.8637 - acc: 0.0116Epoch 00036: val_loss did not improve\n",
      "6680/6680 [==============================] - 13s - loss: 4.8637 - acc: 0.0115 - val_loss: 4.8701 - val_acc: 0.0108\n",
      "Epoch 38/100\n",
      "6660/6680 [============================>.] - ETA: 0s - loss: 4.8639 - acc: 0.0116Epoch 00037: val_loss did not improve\n",
      "6680/6680 [==============================] - 13s - loss: 4.8638 - acc: 0.0115 - val_loss: 4.8703 - val_acc: 0.0108\n",
      "Epoch 39/100\n",
      "6660/6680 [============================>.] - ETA: 0s - loss: 4.8641 - acc: 0.0116Epoch 00038: val_loss did not improve\n",
      "6680/6680 [==============================] - 13s - loss: 4.8639 - acc: 0.0115 - val_loss: 4.8705 - val_acc: 0.0108\n",
      "Epoch 40/100\n",
      "6660/6680 [============================>.] - ETA: 0s - loss: 4.8640 - acc: 0.0116Epoch 00039: val_loss did not improve\n",
      "6680/6680 [==============================] - 13s - loss: 4.8639 - acc: 0.0115 - val_loss: 4.8707 - val_acc: 0.0108\n",
      "Epoch 41/100\n",
      "6660/6680 [============================>.] - ETA: 0s - loss: 4.8637 - acc: 0.0116Epoch 00040: val_loss did not improve\n",
      "6680/6680 [==============================] - 13s - loss: 4.8640 - acc: 0.0115 - val_loss: 4.8708 - val_acc: 0.0108\n",
      "Epoch 42/100\n",
      "6660/6680 [============================>.] - ETA: 0s - loss: 4.8644 - acc: 0.0116Epoch 00041: val_loss did not improve\n",
      "6680/6680 [==============================] - 13s - loss: 4.8641 - acc: 0.0115 - val_loss: 4.8709 - val_acc: 0.0108\n",
      "Epoch 43/100\n",
      "6660/6680 [============================>.] - ETA: 0s - loss: 4.8640 - acc: 0.0116Epoch 00042: val_loss did not improve\n",
      "6680/6680 [==============================] - 13s - loss: 4.8641 - acc: 0.0115 - val_loss: 4.8710 - val_acc: 0.0108\n",
      "Epoch 44/100\n",
      "6660/6680 [============================>.] - ETA: 0s - loss: 4.8641 - acc: 0.0116Epoch 00043: val_loss did not improve\n",
      "6680/6680 [==============================] - 13s - loss: 4.8642 - acc: 0.0115 - val_loss: 4.8711 - val_acc: 0.0108\n",
      "Epoch 45/100\n",
      "6660/6680 [============================>.] - ETA: 0s - loss: 4.8644 - acc: 0.0116Epoch 00044: val_loss did not improve\n",
      "6680/6680 [==============================] - 13s - loss: 4.8643 - acc: 0.0115 - val_loss: 4.8713 - val_acc: 0.0108\n",
      "Epoch 46/100\n",
      "6660/6680 [============================>.] - ETA: 0s - loss: 4.8647 - acc: 0.0114Epoch 00045: val_loss did not improve\n",
      "6680/6680 [==============================] - 13s - loss: 4.8643 - acc: 0.0115 - val_loss: 4.8714 - val_acc: 0.0108\n",
      "Epoch 47/100\n",
      "6660/6680 [============================>.] - ETA: 0s - loss: 4.8641 - acc: 0.0116Epoch 00046: val_loss did not improve\n",
      "6680/6680 [==============================] - 13s - loss: 4.8644 - acc: 0.0115 - val_loss: 4.8714 - val_acc: 0.0108\n",
      "Epoch 48/100\n",
      "6660/6680 [============================>.] - ETA: 0s - loss: 4.8645 - acc: 0.0116Epoch 00047: val_loss did not improve\n",
      "6680/6680 [==============================] - 13s - loss: 4.8645 - acc: 0.0115 - val_loss: 4.8715 - val_acc: 0.0108\n",
      "Epoch 49/100\n",
      "6660/6680 [============================>.] - ETA: 0s - loss: 4.8645 - acc: 0.0116Epoch 00048: val_loss did not improve\n",
      "6680/6680 [==============================] - 13s - loss: 4.8644 - acc: 0.0115 - val_loss: 4.8716 - val_acc: 0.0108\n",
      "Epoch 50/100\n",
      "6660/6680 [============================>.] - ETA: 0s - loss: 4.8645 - acc: 0.0116Epoch 00049: val_loss did not improve\n",
      "6680/6680 [==============================] - 13s - loss: 4.8645 - acc: 0.0115 - val_loss: 4.8718 - val_acc: 0.0108\n",
      "Epoch 51/100\n",
      "6660/6680 [============================>.] - ETA: 0s - loss: 4.8647 - acc: 0.0116Epoch 00050: val_loss did not improve\n",
      "6680/6680 [==============================] - 13s - loss: 4.8646 - acc: 0.0115 - val_loss: 4.8718 - val_acc: 0.0108\n",
      "Epoch 52/100\n",
      "6660/6680 [============================>.] - ETA: 0s - loss: 4.8647 - acc: 0.0116Epoch 00051: val_loss did not improve\n",
      "6680/6680 [==============================] - 13s - loss: 4.8646 - acc: 0.0115 - val_loss: 4.8717 - val_acc: 0.0108\n",
      "Epoch 53/100\n",
      "6660/6680 [============================>.] - ETA: 0s - loss: 4.8644 - acc: 0.0114Epoch 00052: val_loss did not improve\n",
      "6680/6680 [==============================] - 13s - loss: 4.8645 - acc: 0.0115 - val_loss: 4.8717 - val_acc: 0.0108\n",
      "Epoch 54/100\n",
      "6660/6680 [============================>.] - ETA: 0s - loss: 4.8650 - acc: 0.0116Epoch 00053: val_loss did not improve\n",
      "6680/6680 [==============================] - 13s - loss: 4.8647 - acc: 0.0115 - val_loss: 4.8719 - val_acc: 0.0108\n",
      "Epoch 55/100\n",
      "6660/6680 [============================>.] - ETA: 0s - loss: 4.8645 - acc: 0.0114Epoch 00054: val_loss did not improve\n",
      "6680/6680 [==============================] - 13s - loss: 4.8647 - acc: 0.0115 - val_loss: 4.8719 - val_acc: 0.0108\n",
      "Epoch 56/100\n",
      "6660/6680 [============================>.] - ETA: 0s - loss: 4.8646 - acc: 0.0116Epoch 00055: val_loss did not improve\n",
      "6680/6680 [==============================] - 13s - loss: 4.8647 - acc: 0.0115 - val_loss: 4.8720 - val_acc: 0.0108\n",
      "Epoch 57/100\n",
      "6660/6680 [============================>.] - ETA: 0s - loss: 4.8645 - acc: 0.0116Epoch 00056: val_loss did not improve\n",
      "6680/6680 [==============================] - 13s - loss: 4.8647 - acc: 0.0115 - val_loss: 4.8720 - val_acc: 0.0108\n",
      "Epoch 58/100\n",
      "6660/6680 [============================>.] - ETA: 0s - loss: 4.8647 - acc: 0.0116Epoch 00057: val_loss did not improve\n",
      "6680/6680 [==============================] - 13s - loss: 4.8648 - acc: 0.0115 - val_loss: 4.8721 - val_acc: 0.0108\n",
      "Epoch 59/100\n",
      "6660/6680 [============================>.] - ETA: 0s - loss: 4.8644 - acc: 0.0116Epoch 00058: val_loss did not improve\n",
      "6680/6680 [==============================] - 13s - loss: 4.8647 - acc: 0.0115 - val_loss: 4.8721 - val_acc: 0.0108\n",
      "Epoch 60/100\n",
      "6660/6680 [============================>.] - ETA: 0s - loss: 4.8647 - acc: 0.0114Epoch 00059: val_loss did not improve\n",
      "6680/6680 [==============================] - 13s - loss: 4.8648 - acc: 0.0115 - val_loss: 4.8721 - val_acc: 0.0108\n",
      "Epoch 61/100\n",
      "6660/6680 [============================>.] - ETA: 0s - loss: 4.8647 - acc: 0.0116Epoch 00060: val_loss did not improve\n",
      "6680/6680 [==============================] - 13s - loss: 4.8648 - acc: 0.0115 - val_loss: 4.8721 - val_acc: 0.0108\n",
      "Epoch 62/100\n",
      "6660/6680 [============================>.] - ETA: 0s - loss: 4.8651 - acc: 0.0116Epoch 00061: val_loss did not improve\n",
      "6680/6680 [==============================] - 13s - loss: 4.8648 - acc: 0.0115 - val_loss: 4.8721 - val_acc: 0.0108\n",
      "Epoch 63/100\n",
      "6660/6680 [============================>.] - ETA: 0s - loss: 4.8649 - acc: 0.0116Epoch 00062: val_loss did not improve\n",
      "6680/6680 [==============================] - 13s - loss: 4.8648 - acc: 0.0115 - val_loss: 4.8721 - val_acc: 0.0108\n",
      "Epoch 64/100\n",
      "6660/6680 [============================>.] - ETA: 0s - loss: 4.8645 - acc: 0.0116Epoch 00063: val_loss did not improve\n",
      "6680/6680 [==============================] - 13s - loss: 4.8647 - acc: 0.0115 - val_loss: 4.8721 - val_acc: 0.0108\n",
      "Epoch 65/100\n",
      "6660/6680 [============================>.] - ETA: 0s - loss: 4.8647 - acc: 0.0116Epoch 00064: val_loss did not improve\n",
      "6680/6680 [==============================] - 13s - loss: 4.8647 - acc: 0.0115 - val_loss: 4.8720 - val_acc: 0.0108\n",
      "Epoch 66/100\n"
     ]
    },
    {
     "name": "stdout",
     "output_type": "stream",
     "text": [
      "6660/6680 [============================>.] - ETA: 0s - loss: 4.8650 - acc: 0.0116Epoch 00065: val_loss did not improve\n",
      "6680/6680 [==============================] - 13s - loss: 4.8647 - acc: 0.0115 - val_loss: 4.8719 - val_acc: 0.0108\n",
      "Epoch 67/100\n",
      "6660/6680 [============================>.] - ETA: 0s - loss: 4.8646 - acc: 0.0116Epoch 00066: val_loss did not improve\n",
      "6680/6680 [==============================] - 13s - loss: 4.8648 - acc: 0.0115 - val_loss: 4.8720 - val_acc: 0.0108\n",
      "Epoch 68/100\n",
      "6660/6680 [============================>.] - ETA: 0s - loss: 4.8647 - acc: 0.0116Epoch 00067: val_loss did not improve\n",
      "6680/6680 [==============================] - 13s - loss: 4.8647 - acc: 0.0115 - val_loss: 4.8720 - val_acc: 0.0108\n",
      "Epoch 69/100\n",
      "6660/6680 [============================>.] - ETA: 0s - loss: 4.8648 - acc: 0.0114Epoch 00068: val_loss did not improve\n",
      "6680/6680 [==============================] - 13s - loss: 4.8647 - acc: 0.0115 - val_loss: 4.8719 - val_acc: 0.0108\n",
      "Epoch 70/100\n",
      "6660/6680 [============================>.] - ETA: 0s - loss: 4.8648 - acc: 0.0116Epoch 00069: val_loss did not improve\n",
      "6680/6680 [==============================] - 13s - loss: 4.8648 - acc: 0.0115 - val_loss: 4.8720 - val_acc: 0.0108\n",
      "Epoch 71/100\n",
      "6660/6680 [============================>.] - ETA: 0s - loss: 4.8651 - acc: 0.0113Epoch 00070: val_loss did not improve\n",
      "6680/6680 [==============================] - 13s - loss: 4.8648 - acc: 0.0115 - val_loss: 4.8721 - val_acc: 0.0108\n",
      "Epoch 72/100\n",
      "6660/6680 [============================>.] - ETA: 0s - loss: 4.8652 - acc: 0.0114Epoch 00071: val_loss did not improve\n",
      "6680/6680 [==============================] - 13s - loss: 4.8647 - acc: 0.0115 - val_loss: 4.8721 - val_acc: 0.0108\n",
      "Epoch 73/100\n",
      "6660/6680 [============================>.] - ETA: 0s - loss: 4.8648 - acc: 0.0116Epoch 00072: val_loss did not improve\n",
      "6680/6680 [==============================] - 13s - loss: 4.8648 - acc: 0.0115 - val_loss: 4.8721 - val_acc: 0.0108\n",
      "Epoch 74/100\n",
      "6660/6680 [============================>.] - ETA: 0s - loss: 4.8649 - acc: 0.0116Epoch 00073: val_loss did not improve\n",
      "6680/6680 [==============================] - 13s - loss: 4.8648 - acc: 0.0115 - val_loss: 4.8720 - val_acc: 0.0108\n",
      "Epoch 75/100\n",
      "6660/6680 [============================>.] - ETA: 0s - loss: 4.8649 - acc: 0.0116Epoch 00074: val_loss did not improve\n",
      "6680/6680 [==============================] - 13s - loss: 4.8648 - acc: 0.0115 - val_loss: 4.8721 - val_acc: 0.0108\n",
      "Epoch 76/100\n",
      "6660/6680 [============================>.] - ETA: 0s - loss: 4.8650 - acc: 0.0114Epoch 00075: val_loss did not improve\n",
      "6680/6680 [==============================] - 13s - loss: 4.8648 - acc: 0.0115 - val_loss: 4.8721 - val_acc: 0.0108\n",
      "Epoch 77/100\n",
      "6660/6680 [============================>.] - ETA: 0s - loss: 4.8648 - acc: 0.0116Epoch 00076: val_loss did not improve\n",
      "6680/6680 [==============================] - 13s - loss: 4.8648 - acc: 0.0115 - val_loss: 4.8722 - val_acc: 0.0108\n",
      "Epoch 78/100\n",
      "6660/6680 [============================>.] - ETA: 0s - loss: 4.8647 - acc: 0.0114Epoch 00077: val_loss did not improve\n",
      "6680/6680 [==============================] - 13s - loss: 4.8648 - acc: 0.0115 - val_loss: 4.8721 - val_acc: 0.0108\n",
      "Epoch 79/100\n",
      "6660/6680 [============================>.] - ETA: 0s - loss: 4.8652 - acc: 0.0116Epoch 00078: val_loss did not improve\n",
      "6680/6680 [==============================] - 13s - loss: 4.8649 - acc: 0.0115 - val_loss: 4.8721 - val_acc: 0.0108\n",
      "Epoch 80/100\n",
      "6660/6680 [============================>.] - ETA: 0s - loss: 4.8647 - acc: 0.0116Epoch 00079: val_loss did not improve\n",
      "6680/6680 [==============================] - 13s - loss: 4.8649 - acc: 0.0115 - val_loss: 4.8722 - val_acc: 0.0108\n",
      "Epoch 81/100\n",
      "6660/6680 [============================>.] - ETA: 0s - loss: 4.8647 - acc: 0.0116Epoch 00080: val_loss did not improve\n",
      "6680/6680 [==============================] - 13s - loss: 4.8649 - acc: 0.0115 - val_loss: 4.8721 - val_acc: 0.0108\n",
      "Epoch 82/100\n",
      "6660/6680 [============================>.] - ETA: 0s - loss: 4.8648 - acc: 0.0116Epoch 00081: val_loss did not improve\n",
      "6680/6680 [==============================] - 13s - loss: 4.8648 - acc: 0.0115 - val_loss: 4.8720 - val_acc: 0.0108\n",
      "Epoch 83/100\n",
      "6660/6680 [============================>.] - ETA: 0s - loss: 4.8647 - acc: 0.0116Epoch 00082: val_loss did not improve\n",
      "6680/6680 [==============================] - 13s - loss: 4.8648 - acc: 0.0115 - val_loss: 4.8721 - val_acc: 0.0108\n",
      "Epoch 84/100\n",
      "6660/6680 [============================>.] - ETA: 0s - loss: 4.8642 - acc: 0.0116Epoch 00083: val_loss did not improve\n",
      "6680/6680 [==============================] - 13s - loss: 4.8648 - acc: 0.0115 - val_loss: 4.8721 - val_acc: 0.0108\n",
      "Epoch 85/100\n",
      "6660/6680 [============================>.] - ETA: 0s - loss: 4.8647 - acc: 0.0116Epoch 00084: val_loss did not improve\n",
      "6680/6680 [==============================] - 13s - loss: 4.8648 - acc: 0.0115 - val_loss: 4.8721 - val_acc: 0.0108\n",
      "Epoch 86/100\n",
      "6660/6680 [============================>.] - ETA: 0s - loss: 4.8647 - acc: 0.0116Epoch 00085: val_loss did not improve\n",
      "6680/6680 [==============================] - 13s - loss: 4.8648 - acc: 0.0115 - val_loss: 4.8721 - val_acc: 0.0108\n",
      "Epoch 87/100\n",
      "6660/6680 [============================>.] - ETA: 0s - loss: 4.8648 - acc: 0.0116Epoch 00086: val_loss did not improve\n",
      "6680/6680 [==============================] - 13s - loss: 4.8648 - acc: 0.0115 - val_loss: 4.8722 - val_acc: 0.0108\n",
      "Epoch 88/100\n",
      "6660/6680 [============================>.] - ETA: 0s - loss: 4.8651 - acc: 0.0116Epoch 00087: val_loss did not improve\n",
      "6680/6680 [==============================] - 13s - loss: 4.8649 - acc: 0.0115 - val_loss: 4.8722 - val_acc: 0.0108\n",
      "Epoch 89/100\n",
      "6660/6680 [============================>.] - ETA: 0s - loss: 4.8645 - acc: 0.0116Epoch 00088: val_loss did not improve\n",
      "6680/6680 [==============================] - 13s - loss: 4.8649 - acc: 0.0115 - val_loss: 4.8722 - val_acc: 0.0108\n",
      "Epoch 90/100\n",
      "6660/6680 [============================>.] - ETA: 0s - loss: 4.8649 - acc: 0.0114Epoch 00089: val_loss did not improve\n",
      "6680/6680 [==============================] - 13s - loss: 4.8648 - acc: 0.0115 - val_loss: 4.8722 - val_acc: 0.0108\n",
      "Epoch 91/100\n",
      "6660/6680 [============================>.] - ETA: 0s - loss: 4.8647 - acc: 0.0116Epoch 00090: val_loss did not improve\n",
      "6680/6680 [==============================] - 13s - loss: 4.8648 - acc: 0.0115 - val_loss: 4.8722 - val_acc: 0.0108\n",
      "Epoch 92/100\n",
      "6660/6680 [============================>.] - ETA: 0s - loss: 4.8651 - acc: 0.0114Epoch 00091: val_loss did not improve\n",
      "6680/6680 [==============================] - 13s - loss: 4.8649 - acc: 0.0115 - val_loss: 4.8722 - val_acc: 0.0108\n",
      "Epoch 93/100\n",
      "6660/6680 [============================>.] - ETA: 0s - loss: 4.8647 - acc: 0.0110Epoch 00092: val_loss did not improve\n",
      "6680/6680 [==============================] - 13s - loss: 4.8648 - acc: 0.0109 - val_loss: 4.8722 - val_acc: 0.0108\n",
      "Epoch 94/100\n",
      "6660/6680 [============================>.] - ETA: 0s - loss: 4.8649 - acc: 0.0114Epoch 00093: val_loss did not improve\n",
      "6680/6680 [==============================] - 13s - loss: 4.8649 - acc: 0.0115 - val_loss: 4.8722 - val_acc: 0.0108\n",
      "Epoch 95/100\n",
      "6660/6680 [============================>.] - ETA: 0s - loss: 4.8645 - acc: 0.0116Epoch 00094: val_loss did not improve\n",
      "6680/6680 [==============================] - 13s - loss: 4.8649 - acc: 0.0115 - val_loss: 4.8722 - val_acc: 0.0108\n",
      "Epoch 96/100\n",
      "6660/6680 [============================>.] - ETA: 0s - loss: 4.8645 - acc: 0.0116Epoch 00095: val_loss did not improve\n",
      "6680/6680 [==============================] - 13s - loss: 4.8648 - acc: 0.0115 - val_loss: 4.8722 - val_acc: 0.0108\n",
      "Epoch 97/100\n",
      "6660/6680 [============================>.] - ETA: 0s - loss: 4.8650 - acc: 0.0116Epoch 00096: val_loss did not improve\n",
      "6680/6680 [==============================] - 13s - loss: 4.8648 - acc: 0.0115 - val_loss: 4.8722 - val_acc: 0.0108\n",
      "Epoch 98/100\n",
      "6660/6680 [============================>.] - ETA: 0s - loss: 4.8647 - acc: 0.0116Epoch 00097: val_loss did not improve\n",
      "6680/6680 [==============================] - 13s - loss: 4.8648 - acc: 0.0115 - val_loss: 4.8722 - val_acc: 0.0108\n",
      "Epoch 99/100\n"
     ]
    },
    {
     "name": "stdout",
     "output_type": "stream",
     "text": [
      "6660/6680 [============================>.] - ETA: 0s - loss: 4.8646 - acc: 0.0114Epoch 00098: val_loss did not improve\n",
      "6680/6680 [==============================] - 13s - loss: 4.8648 - acc: 0.0115 - val_loss: 4.8722 - val_acc: 0.0108\n",
      "Epoch 100/100\n",
      "6660/6680 [============================>.] - ETA: 0s - loss: 4.8649 - acc: 0.0116Epoch 00099: val_loss did not improve\n",
      "6680/6680 [==============================] - 13s - loss: 4.8648 - acc: 0.0115 - val_loss: 4.8721 - val_acc: 0.0108\n"
     ]
    },
    {
     "data": {
      "text/plain": [
       "<keras.callbacks.History at 0x7fe7c8b2ce48>"
      ]
     },
     "execution_count": 31,
     "metadata": {},
     "output_type": "execute_result"
    }
   ],
   "source": [
    "from keras.callbacks import ModelCheckpoint  \n",
    "\n",
    "### TODO: specify the number of epochs that you would like to use to train the model.\n",
    "\n",
    "epochs = 100\n",
    "\n",
    "### Do NOT modify the code below this line.\n",
    "\n",
    "checkpointer = ModelCheckpoint(filepath='saved_models/weights.best.from_scratch.hdf5', \n",
    "                               verbose=1, save_best_only=True)\n",
    "\n",
    "model.fit(train_tensors, train_targets, \n",
    "          validation_data=(valid_tensors, valid_targets),\n",
    "          epochs=epochs, batch_size=20, callbacks=[checkpointer], verbose=1)"
   ]
  },
  {
   "cell_type": "markdown",
   "metadata": {},
   "source": [
    "### Load the Model with the Best Validation Loss"
   ]
  },
  {
   "cell_type": "code",
   "execution_count": 32,
   "metadata": {
    "collapsed": true
   },
   "outputs": [],
   "source": [
    "model.load_weights('saved_models/weights.best.from_scratch.hdf5')"
   ]
  },
  {
   "cell_type": "markdown",
   "metadata": {},
   "source": [
    "### Test the Model\n",
    "\n",
    "Try out your model on the test dataset of dog images.  Ensure that your test accuracy is greater than 1%."
   ]
  },
  {
   "cell_type": "code",
   "execution_count": 33,
   "metadata": {},
   "outputs": [
    {
     "name": "stdout",
     "output_type": "stream",
     "text": [
      "Test accuracy: 1.1962%\n"
     ]
    }
   ],
   "source": [
    "# get index of predicted dog breed for each image in test set\n",
    "dog_breed_predictions = [np.argmax(model.predict(np.expand_dims(tensor, axis=0))) for tensor in test_tensors]\n",
    "\n",
    "# report test accuracy\n",
    "test_accuracy = 100*np.sum(np.array(dog_breed_predictions)==np.argmax(test_targets, axis=1))/len(dog_breed_predictions)\n",
    "print('Test accuracy: %.4f%%' % test_accuracy)"
   ]
  },
  {
   "cell_type": "markdown",
   "metadata": {},
   "source": [
    "---\n",
    "<a id='step4'></a>\n",
    "## Step 4: Use a CNN to Classify Dog Breeds\n",
    "\n",
    "To reduce training time without sacrificing accuracy, we show you how to train a CNN using transfer learning.  In the following step, you will get a chance to use transfer learning to train your own CNN.\n",
    "\n",
    "### Obtain Bottleneck Features"
   ]
  },
  {
   "cell_type": "code",
   "execution_count": 34,
   "metadata": {
    "collapsed": true
   },
   "outputs": [],
   "source": [
    "bottleneck_features = np.load('bottleneck_features/DogVGG16Data.npz')\n",
    "train_VGG16 = bottleneck_features['train']\n",
    "valid_VGG16 = bottleneck_features['valid']\n",
    "test_VGG16 = bottleneck_features['test']"
   ]
  },
  {
   "cell_type": "markdown",
   "metadata": {},
   "source": [
    "### Model Architecture\n",
    "\n",
    "The model uses the the pre-trained VGG-16 model as a fixed feature extractor, where the last convolutional output of VGG-16 is fed as input to our model.  We only add a global average pooling layer and a fully connected layer, where the latter contains one node for each dog category and is equipped with a softmax."
   ]
  },
  {
   "cell_type": "code",
   "execution_count": 35,
   "metadata": {},
   "outputs": [
    {
     "name": "stdout",
     "output_type": "stream",
     "text": [
      "_________________________________________________________________\n",
      "Layer (type)                 Output Shape              Param #   \n",
      "=================================================================\n",
      "global_average_pooling2d_1 ( (None, 512)               0         \n",
      "_________________________________________________________________\n",
      "dense_10 (Dense)             (None, 133)               68229     \n",
      "=================================================================\n",
      "Total params: 68,229\n",
      "Trainable params: 68,229\n",
      "Non-trainable params: 0\n",
      "_________________________________________________________________\n"
     ]
    }
   ],
   "source": [
    "VGG16_model = Sequential()\n",
    "VGG16_model.add(GlobalAveragePooling2D(input_shape=train_VGG16.shape[1:]))\n",
    "VGG16_model.add(Dense(133, activation='softmax'))\n",
    "\n",
    "VGG16_model.summary()"
   ]
  },
  {
   "cell_type": "markdown",
   "metadata": {},
   "source": [
    "### Compile the Model"
   ]
  },
  {
   "cell_type": "code",
   "execution_count": 36,
   "metadata": {
    "collapsed": true
   },
   "outputs": [],
   "source": [
    "VGG16_model.compile(loss='categorical_crossentropy', optimizer='rmsprop', metrics=['accuracy'])"
   ]
  },
  {
   "cell_type": "markdown",
   "metadata": {},
   "source": [
    "### Train the Model"
   ]
  },
  {
   "cell_type": "code",
   "execution_count": 37,
   "metadata": {},
   "outputs": [
    {
     "name": "stdout",
     "output_type": "stream",
     "text": [
      "Train on 6680 samples, validate on 835 samples\n",
      "Epoch 1/20\n",
      "6480/6680 [============================>.] - ETA: 0s - loss: 12.3546 - acc: 0.1245Epoch 00000: val_loss improved from inf to 10.74494, saving model to saved_models/weights.best.VGG16.hdf5\n",
      "6680/6680 [==============================] - 1s - loss: 12.3002 - acc: 0.1278 - val_loss: 10.7449 - val_acc: 0.2180\n",
      "Epoch 2/20\n",
      "6460/6680 [============================>.] - ETA: 0s - loss: 10.2069 - acc: 0.2819Epoch 00001: val_loss improved from 10.74494 to 10.08971, saving model to saved_models/weights.best.VGG16.hdf5\n",
      "6680/6680 [==============================] - 1s - loss: 10.2013 - acc: 0.2816 - val_loss: 10.0897 - val_acc: 0.2898\n",
      "Epoch 3/20\n",
      "6460/6680 [============================>.] - ETA: 0s - loss: 9.6871 - acc: 0.3447Epoch 00002: val_loss improved from 10.08971 to 10.05912, saving model to saved_models/weights.best.VGG16.hdf5\n",
      "6680/6680 [==============================] - 1s - loss: 9.7156 - acc: 0.3431 - val_loss: 10.0591 - val_acc: 0.2982\n",
      "Epoch 4/20\n",
      "6500/6680 [============================>.] - ETA: 0s - loss: 9.5203 - acc: 0.3645Epoch 00003: val_loss improved from 10.05912 to 9.87744, saving model to saved_models/weights.best.VGG16.hdf5\n",
      "6680/6680 [==============================] - 1s - loss: 9.5204 - acc: 0.3642 - val_loss: 9.8774 - val_acc: 0.3150\n",
      "Epoch 5/20\n",
      "6480/6680 [============================>.] - ETA: 0s - loss: 9.3240 - acc: 0.3907Epoch 00004: val_loss improved from 9.87744 to 9.73177, saving model to saved_models/weights.best.VGG16.hdf5\n",
      "6680/6680 [==============================] - 1s - loss: 9.3466 - acc: 0.3885 - val_loss: 9.7318 - val_acc: 0.3353\n",
      "Epoch 6/20\n",
      "6480/6680 [============================>.] - ETA: 0s - loss: 9.2141 - acc: 0.4015Epoch 00005: val_loss improved from 9.73177 to 9.62002, saving model to saved_models/weights.best.VGG16.hdf5\n",
      "6680/6680 [==============================] - 1s - loss: 9.2222 - acc: 0.4007 - val_loss: 9.6200 - val_acc: 0.3425\n",
      "Epoch 7/20\n",
      "6460/6680 [============================>.] - ETA: 0s - loss: 9.1117 - acc: 0.4111Epoch 00006: val_loss did not improve\n",
      "6680/6680 [==============================] - 1s - loss: 9.1262 - acc: 0.4102 - val_loss: 9.6243 - val_acc: 0.3437\n",
      "Epoch 8/20\n",
      "6500/6680 [============================>.] - ETA: 0s - loss: 9.0669 - acc: 0.4178Epoch 00007: val_loss improved from 9.62002 to 9.55950, saving model to saved_models/weights.best.VGG16.hdf5\n",
      "6680/6680 [==============================] - 1s - loss: 9.0522 - acc: 0.4181 - val_loss: 9.5595 - val_acc: 0.3449\n",
      "Epoch 9/20\n",
      "6480/6680 [============================>.] - ETA: 0s - loss: 8.8697 - acc: 0.4313Epoch 00008: val_loss improved from 9.55950 to 9.38966, saving model to saved_models/weights.best.VGG16.hdf5\n",
      "6680/6680 [==============================] - 1s - loss: 8.8998 - acc: 0.4296 - val_loss: 9.3897 - val_acc: 0.3689\n",
      "Epoch 10/20\n",
      "6500/6680 [============================>.] - ETA: 0s - loss: 8.7011 - acc: 0.4420Epoch 00009: val_loss improved from 9.38966 to 9.26973, saving model to saved_models/weights.best.VGG16.hdf5\n",
      "6680/6680 [==============================] - 1s - loss: 8.7349 - acc: 0.4398 - val_loss: 9.2697 - val_acc: 0.3749\n",
      "Epoch 11/20\n",
      "6440/6680 [===========================>..] - ETA: 0s - loss: 8.5923 - acc: 0.4523Epoch 00010: val_loss improved from 9.26973 to 9.14168, saving model to saved_models/weights.best.VGG16.hdf5\n",
      "6680/6680 [==============================] - 1s - loss: 8.5944 - acc: 0.4525 - val_loss: 9.1417 - val_acc: 0.3605\n",
      "Epoch 12/20\n",
      "6500/6680 [============================>.] - ETA: 0s - loss: 8.4824 - acc: 0.4611Epoch 00011: val_loss improved from 9.14168 to 9.08562, saving model to saved_models/weights.best.VGG16.hdf5\n",
      "6680/6680 [==============================] - 1s - loss: 8.4880 - acc: 0.4605 - val_loss: 9.0856 - val_acc: 0.3808\n",
      "Epoch 13/20\n",
      "6460/6680 [============================>.] - ETA: 0s - loss: 8.4589 - acc: 0.4659Epoch 00012: val_loss improved from 9.08562 to 9.05053, saving model to saved_models/weights.best.VGG16.hdf5\n",
      "6680/6680 [==============================] - 1s - loss: 8.4415 - acc: 0.4671 - val_loss: 9.0505 - val_acc: 0.3701\n",
      "Epoch 14/20\n",
      "6500/6680 [============================>.] - ETA: 0s - loss: 8.3877 - acc: 0.4683Epoch 00013: val_loss did not improve\n",
      "6680/6680 [==============================] - 1s - loss: 8.3721 - acc: 0.4690 - val_loss: 9.0559 - val_acc: 0.3784\n",
      "Epoch 15/20\n",
      "6480/6680 [============================>.] - ETA: 0s - loss: 8.1993 - acc: 0.4745Epoch 00014: val_loss improved from 9.05053 to 8.86895, saving model to saved_models/weights.best.VGG16.hdf5\n",
      "6680/6680 [==============================] - 1s - loss: 8.1673 - acc: 0.4768 - val_loss: 8.8690 - val_acc: 0.3904\n",
      "Epoch 16/20\n",
      "6500/6680 [============================>.] - ETA: 0s - loss: 8.0825 - acc: 0.4860Epoch 00015: val_loss improved from 8.86895 to 8.79107, saving model to saved_models/weights.best.VGG16.hdf5\n",
      "6680/6680 [==============================] - 1s - loss: 8.0829 - acc: 0.4858 - val_loss: 8.7911 - val_acc: 0.3796\n",
      "Epoch 17/20\n",
      "6500/6680 [============================>.] - ETA: 0s - loss: 7.9895 - acc: 0.4946Epoch 00016: val_loss improved from 8.79107 to 8.66661, saving model to saved_models/weights.best.VGG16.hdf5\n",
      "6680/6680 [==============================] - 1s - loss: 7.9798 - acc: 0.4954 - val_loss: 8.6666 - val_acc: 0.3952\n",
      "Epoch 18/20\n",
      "6460/6680 [============================>.] - ETA: 0s - loss: 7.9492 - acc: 0.4963Epoch 00017: val_loss improved from 8.66661 to 8.62733, saving model to saved_models/weights.best.VGG16.hdf5\n",
      "6680/6680 [==============================] - 1s - loss: 7.9433 - acc: 0.4969 - val_loss: 8.6273 - val_acc: 0.3964\n",
      "Epoch 19/20\n",
      "6480/6680 [============================>.] - ETA: 0s - loss: 7.8552 - acc: 0.5059Epoch 00018: val_loss did not improve\n",
      "6680/6680 [==============================] - 1s - loss: 7.8901 - acc: 0.5033 - val_loss: 8.6288 - val_acc: 0.4000\n",
      "Epoch 20/20\n",
      "6640/6680 [============================>.] - ETA: 0s - loss: 7.7338 - acc: 0.5131Epoch 00019: val_loss improved from 8.62733 to 8.44371, saving model to saved_models/weights.best.VGG16.hdf5\n",
      "6680/6680 [==============================] - 1s - loss: 7.7335 - acc: 0.5130 - val_loss: 8.4437 - val_acc: 0.4168\n"
     ]
    },
    {
     "data": {
      "text/plain": [
       "<keras.callbacks.History at 0x7fe7c88b0400>"
      ]
     },
     "execution_count": 37,
     "metadata": {},
     "output_type": "execute_result"
    }
   ],
   "source": [
    "checkpointer = ModelCheckpoint(filepath='saved_models/weights.best.VGG16.hdf5', \n",
    "                               verbose=1, save_best_only=True)\n",
    "\n",
    "VGG16_model.fit(train_VGG16, train_targets, \n",
    "          validation_data=(valid_VGG16, valid_targets),\n",
    "          epochs=20, batch_size=20, callbacks=[checkpointer], verbose=1)"
   ]
  },
  {
   "cell_type": "markdown",
   "metadata": {},
   "source": [
    "### Load the Model with the Best Validation Loss"
   ]
  },
  {
   "cell_type": "code",
   "execution_count": 38,
   "metadata": {
    "collapsed": true
   },
   "outputs": [],
   "source": [
    "VGG16_model.load_weights('saved_models/weights.best.VGG16.hdf5')"
   ]
  },
  {
   "cell_type": "markdown",
   "metadata": {},
   "source": [
    "### Test the Model\n",
    "\n",
    "Now, we can use the CNN to test how well it identifies breed within our test dataset of dog images.  We print the test accuracy below."
   ]
  },
  {
   "cell_type": "code",
   "execution_count": 39,
   "metadata": {},
   "outputs": [
    {
     "name": "stdout",
     "output_type": "stream",
     "text": [
      "Test accuracy: 42.8230%\n"
     ]
    }
   ],
   "source": [
    "# get index of predicted dog breed for each image in test set\n",
    "VGG16_predictions = [np.argmax(VGG16_model.predict(np.expand_dims(feature, axis=0))) for feature in test_VGG16]\n",
    "\n",
    "# report test accuracy\n",
    "test_accuracy = 100*np.sum(np.array(VGG16_predictions)==np.argmax(test_targets, axis=1))/len(VGG16_predictions)\n",
    "print('Test accuracy: %.4f%%' % test_accuracy)"
   ]
  },
  {
   "cell_type": "markdown",
   "metadata": {},
   "source": [
    "### Predict Dog Breed with the Model"
   ]
  },
  {
   "cell_type": "code",
   "execution_count": 40,
   "metadata": {
    "collapsed": true
   },
   "outputs": [],
   "source": [
    "from extract_bottleneck_features import *\n",
    "\n",
    "def VGG16_predict_breed(img_path):\n",
    "    # extract bottleneck features\n",
    "    bottleneck_feature = extract_VGG16(path_to_tensor(img_path))\n",
    "    # obtain predicted vector\n",
    "    predicted_vector = VGG16_model.predict(bottleneck_feature)\n",
    "    # return dog breed that is predicted by the model\n",
    "    return dog_names[np.argmax(predicted_vector)]"
   ]
  },
  {
   "cell_type": "markdown",
   "metadata": {},
   "source": [
    "---\n",
    "<a id='step5'></a>\n",
    "## Step 5: Create a CNN to Classify Dog Breeds (using Transfer Learning)\n",
    "\n",
    "You will now use transfer learning to create a CNN that can identify dog breed from images.  Your CNN must attain at least 60% accuracy on the test set.\n",
    "\n",
    "In Step 4, we used transfer learning to create a CNN using VGG-16 bottleneck features.  In this section, you must use the bottleneck features from a different pre-trained model.  To make things easier for you, we have pre-computed the features for all of the networks that are currently available in Keras:\n",
    "- [VGG-19](https://s3-us-west-1.amazonaws.com/udacity-aind/dog-project/DogVGG19Data.npz) bottleneck features\n",
    "- [ResNet-50](https://s3-us-west-1.amazonaws.com/udacity-aind/dog-project/DogResnet50Data.npz) bottleneck features\n",
    "- [Inception](https://s3-us-west-1.amazonaws.com/udacity-aind/dog-project/DogInceptionV3Data.npz) bottleneck features\n",
    "- [Xception](https://s3-us-west-1.amazonaws.com/udacity-aind/dog-project/DogXceptionData.npz) bottleneck features\n",
    "\n",
    "The files are encoded as such:\n",
    "\n",
    "    Dog{network}Data.npz\n",
    "    \n",
    "where `{network}`, in the above filename, can be one of `VGG19`, `Resnet50`, `InceptionV3`, or `Xception`.  Pick one of the above architectures, download the corresponding bottleneck features, and store the downloaded file in the `bottleneck_features/` folder in the repository.\n",
    "\n",
    "### (IMPLEMENTATION) Obtain Bottleneck Features\n",
    "\n",
    "In the code block below, extract the bottleneck features corresponding to the train, test, and validation sets by running the following:\n",
    "\n",
    "    bottleneck_features = np.load('bottleneck_features/Dog{network}Data.npz')\n",
    "    train_{network} = bottleneck_features['train']\n",
    "    valid_{network} = bottleneck_features['valid']\n",
    "    test_{network} = bottleneck_features['test']"
   ]
  },
  {
   "cell_type": "code",
   "execution_count": 41,
   "metadata": {
    "collapsed": true
   },
   "outputs": [],
   "source": [
    "### TODO: Obtain bottleneck features from another pre-trained CNN.\n",
    "bottleneck_features = np.load('bottleneck_features/DogResnet50Data.npz')\n",
    "train_Resnet50 = bottleneck_features['train']\n",
    "valid_Resnet50 = bottleneck_features['valid']\n",
    "test_Resnet50 = bottleneck_features['test']"
   ]
  },
  {
   "cell_type": "markdown",
   "metadata": {},
   "source": [
    "### (IMPLEMENTATION) Model Architecture\n",
    "\n",
    "Create a CNN to classify dog breed.  At the end of your code cell block, summarize the layers of your model by executing the line:\n",
    "    \n",
    "        <your model's name>.summary()\n",
    "   \n",
    "__Question 5:__ Outline the steps you took to get to your final CNN architecture and your reasoning at each step.  Describe why you think the architecture is suitable for the current problem.\n",
    "\n",
    "__Answer:__ \n",
    "\n"
   ]
  },
  {
   "cell_type": "code",
   "execution_count": 48,
   "metadata": {},
   "outputs": [
    {
     "name": "stdout",
     "output_type": "stream",
     "text": [
      "_________________________________________________________________\n",
      "Layer (type)                 Output Shape              Param #   \n",
      "=================================================================\n",
      "global_average_pooling2d_3 ( (None, 2048)              0         \n",
      "_________________________________________________________________\n",
      "dense_12 (Dense)             (None, 133)               272517    \n",
      "=================================================================\n",
      "Total params: 272,517\n",
      "Trainable params: 272,517\n",
      "Non-trainable params: 0\n",
      "_________________________________________________________________\n"
     ]
    }
   ],
   "source": [
    "### TODO: Define your architecture.\n",
    "Resnet50_model = Sequential()\n",
    "Resnet50_model.add(GlobalAveragePooling2D(input_shape=train_Resnet50.shape[1:]))\n",
    "Resnet50_model.add(Dense(133, activation='softmax'))\n",
    "\n",
    "Resnet50_model.summary()"
   ]
  },
  {
   "cell_type": "markdown",
   "metadata": {},
   "source": [
    "### (IMPLEMENTATION) Compile the Model"
   ]
  },
  {
   "cell_type": "code",
   "execution_count": 49,
   "metadata": {
    "collapsed": true
   },
   "outputs": [],
   "source": [
    "### TODO: Compile the model.\n",
    "Resnet50_model.compile(loss='categorical_crossentropy', optimizer='rmsprop', metrics=['accuracy'])"
   ]
  },
  {
   "cell_type": "markdown",
   "metadata": {},
   "source": [
    "### (IMPLEMENTATION) Train the Model\n",
    "\n",
    "Train your model in the code cell below.  Use model checkpointing to save the model that attains the best validation loss.  \n",
    "\n",
    "You are welcome to [augment the training data](https://blog.keras.io/building-powerful-image-classification-models-using-very-little-data.html), but this is not a requirement. "
   ]
  },
  {
   "cell_type": "code",
   "execution_count": 51,
   "metadata": {},
   "outputs": [
    {
     "name": "stdout",
     "output_type": "stream",
     "text": [
      "Train on 6680 samples, validate on 835 samples\n",
      "Epoch 1/20\n",
      "6500/6680 [============================>.] - ETA: 0s - loss: 1.6504 - acc: 0.5918Epoch 00000: val_loss improved from inf to 0.84166, saving model to saved_models/weights.best.Resnet50.hdf5\n",
      "6680/6680 [==============================] - 1s - loss: 1.6274 - acc: 0.5963 - val_loss: 0.8417 - val_acc: 0.7317\n",
      "Epoch 2/20\n",
      "6660/6680 [============================>.] - ETA: 0s - loss: 0.4460 - acc: 0.8605Epoch 00001: val_loss improved from 0.84166 to 0.71174, saving model to saved_models/weights.best.Resnet50.hdf5\n",
      "6680/6680 [==============================] - 1s - loss: 0.4461 - acc: 0.8603 - val_loss: 0.7117 - val_acc: 0.7880\n",
      "Epoch 3/20\n",
      "6660/6680 [============================>.] - ETA: 0s - loss: 0.2628 - acc: 0.9189Epoch 00002: val_loss did not improve\n",
      "6680/6680 [==============================] - 1s - loss: 0.2627 - acc: 0.9190 - val_loss: 0.7199 - val_acc: 0.7928\n",
      "Epoch 4/20\n",
      "6640/6680 [============================>.] - ETA: 0s - loss: 0.1813 - acc: 0.9467Epoch 00003: val_loss improved from 0.71174 to 0.66081, saving model to saved_models/weights.best.Resnet50.hdf5\n",
      "6680/6680 [==============================] - 1s - loss: 0.1814 - acc: 0.9466 - val_loss: 0.6608 - val_acc: 0.8120\n",
      "Epoch 5/20\n",
      "6400/6680 [===========================>..] - ETA: 0s - loss: 0.1228 - acc: 0.9616Epoch 00004: val_loss did not improve\n",
      "6680/6680 [==============================] - 1s - loss: 0.1258 - acc: 0.9611 - val_loss: 0.7023 - val_acc: 0.8024\n",
      "Epoch 6/20\n",
      "6660/6680 [============================>.] - ETA: 0s - loss: 0.0890 - acc: 0.9730Epoch 00005: val_loss did not improve\n",
      "6680/6680 [==============================] - 1s - loss: 0.0902 - acc: 0.9728 - val_loss: 0.6969 - val_acc: 0.8072\n",
      "Epoch 7/20\n",
      "6460/6680 [============================>.] - ETA: 0s - loss: 0.0668 - acc: 0.9786Epoch 00006: val_loss did not improve\n",
      "6680/6680 [==============================] - 1s - loss: 0.0674 - acc: 0.9783 - val_loss: 0.7748 - val_acc: 0.8120\n",
      "Epoch 8/20\n",
      "6440/6680 [===========================>..] - ETA: 0s - loss: 0.0492 - acc: 0.9849Epoch 00007: val_loss did not improve\n",
      "6680/6680 [==============================] - 1s - loss: 0.0505 - acc: 0.9843 - val_loss: 0.7012 - val_acc: 0.8228\n",
      "Epoch 9/20\n",
      "6560/6680 [============================>.] - ETA: 0s - loss: 0.0370 - acc: 0.9892Epoch 00008: val_loss did not improve\n",
      "6680/6680 [==============================] - 1s - loss: 0.0368 - acc: 0.9892 - val_loss: 0.7245 - val_acc: 0.8192\n",
      "Epoch 10/20\n",
      "6640/6680 [============================>.] - ETA: 0s - loss: 0.0293 - acc: 0.9923Epoch 00009: val_loss did not improve\n",
      "6680/6680 [==============================] - 1s - loss: 0.0295 - acc: 0.9922 - val_loss: 0.7517 - val_acc: 0.8204\n",
      "Epoch 11/20\n",
      "6480/6680 [============================>.] - ETA: 0s - loss: 0.0243 - acc: 0.9932Epoch 00010: val_loss did not improve\n",
      "6680/6680 [==============================] - 1s - loss: 0.0237 - acc: 0.9934 - val_loss: 0.7723 - val_acc: 0.8299\n",
      "Epoch 12/20\n",
      "6400/6680 [===========================>..] - ETA: 0s - loss: 0.0200 - acc: 0.9942Epoch 00011: val_loss did not improve\n",
      "6680/6680 [==============================] - 1s - loss: 0.0199 - acc: 0.9942 - val_loss: 0.8055 - val_acc: 0.8216\n",
      "Epoch 13/20\n",
      "6460/6680 [============================>.] - ETA: 0s - loss: 0.0144 - acc: 0.9961Epoch 00012: val_loss did not improve\n",
      "6680/6680 [==============================] - 1s - loss: 0.0153 - acc: 0.9960 - val_loss: 0.8149 - val_acc: 0.8120\n",
      "Epoch 14/20\n",
      "6620/6680 [============================>.] - ETA: 0s - loss: 0.0123 - acc: 0.9965Epoch 00013: val_loss did not improve\n",
      "6680/6680 [==============================] - 1s - loss: 0.0122 - acc: 0.9966 - val_loss: 0.8292 - val_acc: 0.8251\n",
      "Epoch 15/20\n",
      "6420/6680 [===========================>..] - ETA: 0s - loss: 0.0092 - acc: 0.9984Epoch 00014: val_loss did not improve\n",
      "6680/6680 [==============================] - 1s - loss: 0.0106 - acc: 0.9981 - val_loss: 0.8159 - val_acc: 0.8240\n",
      "Epoch 16/20\n",
      "6640/6680 [============================>.] - ETA: 0s - loss: 0.0094 - acc: 0.9980Epoch 00015: val_loss did not improve\n",
      "6680/6680 [==============================] - 1s - loss: 0.0094 - acc: 0.9981 - val_loss: 0.8591 - val_acc: 0.8204\n",
      "Epoch 17/20\n",
      "6420/6680 [===========================>..] - ETA: 0s - loss: 0.0094 - acc: 0.9980Epoch 00016: val_loss did not improve\n",
      "6680/6680 [==============================] - 1s - loss: 0.0091 - acc: 0.9981 - val_loss: 0.8782 - val_acc: 0.8299\n",
      "Epoch 18/20\n",
      "6440/6680 [===========================>..] - ETA: 0s - loss: 0.0072 - acc: 0.9981Epoch 00017: val_loss did not improve\n",
      "6680/6680 [==============================] - 1s - loss: 0.0076 - acc: 0.9981 - val_loss: 0.8854 - val_acc: 0.8323\n",
      "Epoch 19/20\n",
      "6640/6680 [============================>.] - ETA: 0s - loss: 0.0069 - acc: 0.9980Epoch 00018: val_loss did not improve\n",
      "6680/6680 [==============================] - 1s - loss: 0.0069 - acc: 0.9981 - val_loss: 0.9510 - val_acc: 0.8216\n",
      "Epoch 20/20\n",
      "6440/6680 [===========================>..] - ETA: 0s - loss: 0.0060 - acc: 0.9986Epoch 00019: val_loss did not improve\n",
      "6680/6680 [==============================] - 1s - loss: 0.0058 - acc: 0.9987 - val_loss: 0.9416 - val_acc: 0.8263\n"
     ]
    },
    {
     "data": {
      "text/plain": [
       "<keras.callbacks.History at 0x7fe7c3c0eda0>"
      ]
     },
     "execution_count": 51,
     "metadata": {},
     "output_type": "execute_result"
    }
   ],
   "source": [
    "### TODO: Train the model.\n",
    "checkpointer = ModelCheckpoint(filepath='saved_models/weights.best.Resnet50.hdf5', \n",
    "                               verbose=1, save_best_only=True)\n",
    "\n",
    "Resnet50_model.fit(train_Resnet50, train_targets, \n",
    "          validation_data=(valid_Resnet50, valid_targets),\n",
    "          epochs=20, batch_size=20, callbacks=[checkpointer], verbose=1)"
   ]
  },
  {
   "cell_type": "markdown",
   "metadata": {},
   "source": [
    "### (IMPLEMENTATION) Load the Model with the Best Validation Loss"
   ]
  },
  {
   "cell_type": "code",
   "execution_count": 52,
   "metadata": {
    "collapsed": true
   },
   "outputs": [],
   "source": [
    "### TODO: Load the model weights with the best validation loss.\n",
    "Resnet50_model.load_weights('saved_models/weights.best.Resnet50.hdf5')"
   ]
  },
  {
   "cell_type": "markdown",
   "metadata": {},
   "source": [
    "### (IMPLEMENTATION) Test the Model\n",
    "\n",
    "Try out your model on the test dataset of dog images. Ensure that your test accuracy is greater than 60%."
   ]
  },
  {
   "cell_type": "code",
   "execution_count": 53,
   "metadata": {},
   "outputs": [
    {
     "name": "stdout",
     "output_type": "stream",
     "text": [
      "Test accuracy: 80.7416%\n"
     ]
    }
   ],
   "source": [
    "### TODO: Calculate classification accuracy on the test dataset.\n",
    "Resnet50_predictions = [np.argmax(Resnet50_model.predict(np.expand_dims(feature, axis=0))) for feature in test_Resnet50]\n",
    "# report test accuracy\n",
    "test_accuracy = 100*np.sum(np.array(Resnet50_predictions)==np.argmax(test_targets, axis=1))/len(Resnet50_predictions)\n",
    "print('Test accuracy: %.4f%%' % test_accuracy)"
   ]
  },
  {
   "cell_type": "markdown",
   "metadata": {},
   "source": [
    "### (IMPLEMENTATION) Predict Dog Breed with the Model\n",
    "\n",
    "Write a function that takes an image path as input and returns the dog breed (`Affenpinscher`, `Afghan_hound`, etc) that is predicted by your model.  \n",
    "\n",
    "Similar to the analogous function in Step 5, your function should have three steps:\n",
    "1. Extract the bottleneck features corresponding to the chosen CNN model.\n",
    "2. Supply the bottleneck features as input to the model to return the predicted vector.  Note that the argmax of this prediction vector gives the index of the predicted dog breed.\n",
    "3. Use the `dog_names` array defined in Step 0 of this notebook to return the corresponding breed.\n",
    "\n",
    "The functions to extract the bottleneck features can be found in `extract_bottleneck_features.py`, and they have been imported in an earlier code cell.  To obtain the bottleneck features corresponding to your chosen CNN architecture, you need to use the function\n",
    "\n",
    "    extract_{network}\n",
    "    \n",
    "where `{network}`, in the above filename, should be one of `VGG19`, `Resnet50`, `InceptionV3`, or `Xception`."
   ]
  },
  {
   "cell_type": "code",
   "execution_count": 89,
   "metadata": {
    "collapsed": true
   },
   "outputs": [],
   "source": [
    "### TODO: Write a function that takes a path to an image as input\n",
    "### and returns the dog breed that is predicted by the model.\n",
    "def Resnet50_predict_breed(img_path):\n",
    "    # extract bottleneck features\n",
    "    bottleneck_feature = extract_Resnet50(path_to_tensor(img_path))\n",
    "    # obtain predicted vector\n",
    "    predicted_vector = Resnet50_model.predict(bottleneck_feature)\n",
    "    # return dog breed that is predicted by the model\n",
    "    index = np.argmax(predicted_vector)\n",
    "    print(index)\n",
    "    return dog_names[np.argmax(predicted_vector)]"
   ]
  },
  {
   "cell_type": "code",
   "execution_count": 88,
   "metadata": {},
   "outputs": [
    {
     "data": {
      "image/png": "[encoded data removed]",
      "text/plain": [
       "<matplotlib.figure.Figure at 0x7fe5959c4e10>"
      ]
     },
     "metadata": {},
     "output_type": "display_data"
    },
    {
     "name": "stdout",
     "output_type": "stream",
     "text": [
      "1/1 [==============================] - 0s\n",
      "[[  2.02855013e-13   8.76764794e-09   5.71657115e-15   3.89994352e-13\n",
      "    7.14612634e-16   8.68435667e-18   2.29726850e-16   1.55399457e-16\n",
      "    5.66517527e-04   5.74626177e-15   6.57153504e-14   9.26094748e-15\n",
      "    7.38714103e-13   5.52282697e-19   3.17526597e-14   3.92057060e-14\n",
      "    3.07111270e-13   4.51484648e-11   3.98062741e-13   3.73268990e-17\n",
      "    6.07417237e-15   3.69359602e-17   1.27156250e-12   1.35972971e-12\n",
      "    1.21261562e-13   2.33590280e-09   8.05220751e-11   1.04161978e-10\n",
      "    2.62345760e-20   3.16861100e-14   4.35265118e-17   2.85971690e-16\n",
      "    3.43331763e-08   7.80647587e-15   7.07301410e-07   1.36292418e-11\n",
      "    2.17271447e-15   1.79376354e-14   3.01981494e-18   2.65202823e-17\n",
      "    3.84177401e-09   8.97441301e-14   4.44339773e-16   4.23902746e-10\n",
      "    1.45288885e-14   5.14187859e-10   7.55458691e-15   5.49324888e-17\n",
      "    7.04380510e-13   2.45823223e-10   1.29507127e-10   1.00164509e-14\n",
      "    3.07072696e-05   4.49443292e-18   2.07449738e-10   5.95031446e-12\n",
      "    4.11824143e-17   1.20799868e-13   5.77171476e-18   2.66921231e-16\n",
      "    7.32910932e-09   7.81262099e-13   8.75483366e-12   1.34039676e-12\n",
      "    2.82373686e-17   1.19904576e-06   4.52245118e-17   2.23956623e-13\n",
      "    9.84780939e-16   1.03415853e-14   9.94620781e-14   5.67325262e-15\n",
      "    1.57878635e-08   6.43289155e-12   1.07331021e-13   4.50877840e-15\n",
      "    5.07566327e-08   2.03576627e-14   2.16078833e-14   3.86904593e-14\n",
      "    1.98358345e-15   2.33633068e-09   3.80929516e-21   4.84151221e-16\n",
      "    1.95501591e-14   3.65818324e-13   8.37582939e-15   9.99366105e-01\n",
      "    9.88291560e-10   7.86630668e-19   7.82766638e-18   3.49613138e-18\n",
      "    4.13003992e-10   1.65515637e-12   4.57220592e-15   1.04622113e-14\n",
      "    7.10853522e-13   5.32132606e-13   3.44944288e-13   2.54304368e-12\n",
      "    4.24845384e-15   1.03256038e-17   2.72724703e-12   3.56816830e-14\n",
      "    1.75195292e-11   1.62374043e-08   3.45048053e-14   2.29540904e-18\n",
      "    3.55500151e-15   5.52760859e-20   5.14260860e-16   1.54067842e-16\n",
      "    4.62547101e-13   1.06260263e-08   3.75661865e-16   2.09906345e-17\n",
      "    4.03627218e-12   1.64446110e-15   8.13069577e-12   3.62771069e-19\n",
      "    1.31540101e-09   2.21909331e-16   7.91949548e-15   2.81534028e-07\n",
      "    3.43268148e-05   2.80086775e-15   6.71819168e-14   5.28290902e-16\n",
      "    1.14766330e-09   6.60622642e-12   2.58993249e-09   3.74602888e-16\n",
      "    3.06927552e-12]]\n",
      "87\n",
      "Irish_water_spaniel\n"
     ]
    }
   ],
   "source": [
    "# display the image, along with bounding box\n",
    "img = cv2.imread(dog_files_short[2])\n",
    "plt.imshow(img)\n",
    "plt.show()\n",
    "print(Resnet50_predict_breed(dog_files_short[2]))"
   ]
  },
  {
   "cell_type": "markdown",
   "metadata": {},
   "source": [
    "---\n",
    "<a id='step6'></a>\n",
    "## Step 6: Write your Algorithm\n",
    "\n",
    "Write an algorithm that accepts a file path to an image and first determines whether the image contains a human, dog, or neither.  Then,\n",
    "- if a __dog__ is detected in the image, return the predicted breed.\n",
    "- if a __human__ is detected in the image, return the resembling dog breed.\n",
    "- if __neither__ is detected in the image, provide output that indicates an error.\n",
    "\n",
    "You are welcome to write your own functions for detecting humans and dogs in images, but feel free to use the `face_detector` and `dog_detector` functions developed above.  You are __required__ to use your CNN from Step 5 to predict dog breed.  \n",
    "\n",
    "Some sample output for our algorithm is provided below, but feel free to design your own user experience!\n",
    "\n",
    "![Sample Human Output](images/sample_human_output.png)\n",
    "\n",
    "\n",
    "### (IMPLEMENTATION) Write your Algorithm"
   ]
  },
  {
   "cell_type": "code",
   "execution_count": null,
   "metadata": {
    "collapsed": true
   },
   "outputs": [],
   "source": [
    "### TODO: Write your algorithm.\n",
    "### Feel free to use as many code cells as needed."
   ]
  },
  {
   "cell_type": "markdown",
   "metadata": {},
   "source": [
    "---\n",
    "<a id='step7'></a>\n",
    "## Step 7: Test Your Algorithm\n",
    "\n",
    "In this section, you will take your new algorithm for a spin!  What kind of dog does the algorithm think that __you__ look like?  If you have a dog, does it predict your dog's breed accurately?  If you have a cat, does it mistakenly think that your cat is a dog?\n",
    "\n",
    "### (IMPLEMENTATION) Test Your Algorithm on Sample Images!\n",
    "\n",
    "Test your algorithm at least six images on your computer.  Feel free to use any images you like.  Use at least two human and two dog images.  \n",
    "\n",
    "__Question 6:__ Is the output better than you expected :) ?  Or worse :( ?  Provide at least three possible points of improvement for your algorithm.\n",
    "\n",
    "__Answer:__ "
   ]
  },
  {
   "cell_type": "code",
   "execution_count": null,
   "metadata": {
    "collapsed": true
   },
   "outputs": [],
   "source": [
    "## TODO: Execute your algorithm from Step 6 on\n",
    "## at least 6 images on your computer.\n",
    "## Feel free to use as many code cells as needed."
   ]
  }
 ],
 "metadata": {
  "anaconda-cloud": {},
  "kernelspec": {
   "display_name": "Python 3",
   "language": "python",
   "name": "python3"
  },
  "language_info": {
   "codemirror_mode": {
    "name": "ipython",
    "version": 3
   },
   "file_extension": ".py",
   "mimetype": "text/x-python",
   "name": "python",
   "nbconvert_exporter": "python",
   "pygments_lexer": "ipython3",
   "version": "3.6.1"
  }
 },
 "nbformat": 4,
 "nbformat_minor": 1
}
